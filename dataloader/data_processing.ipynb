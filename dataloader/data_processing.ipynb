{
 "cells": [
  {
   "cell_type": "code",
   "execution_count": 1,
   "outputs": [],
   "source": [
    "import csv\n",
    "import pandas as pd\n",
    "import numpy as np\n",
    "import plotly.express as px\n",
    "from matplotlib import pyplot as plt"
   ],
   "metadata": {
    "collapsed": false,
    "ExecuteTime": {
     "end_time": "2023-06-29T01:53:46.232402Z",
     "start_time": "2023-06-29T01:53:44.305504Z"
    }
   }
  },
  {
   "cell_type": "code",
   "execution_count": 81,
   "outputs": [],
   "source": [
    "def outliners(data,col,scale=3):\n",
    "    def box_plot_outliners(data_ser,box_scale):\n",
    "        IQR=box_scale*(data_ser.quantile(0.75)-data_ser.quantile(0.25))\n",
    "        val_low=data_ser.quantile(0.25)-IQR\n",
    "        val_up=data_ser.quantile(0.75)+IQR\n",
    "        rule_low=(data_ser<val_low)\n",
    "        rule_up=(data_ser>val_up)\n",
    "        return rule_low,rule_up,val_low,val_up\n",
    "    data_n=data.copy()\n",
    "    data_series=data_n[col]\n",
    "    rule_low,rule_up,val_low,val_up=box_plot_outliners(data_series,box_scale=scale)\n",
    "    data_n[col].loc[rule_up]=val_up\n",
    "    data_n[col].loc[rule_low]=val_low\n",
    "    return data_n"
   ],
   "metadata": {
    "collapsed": false
   }
  },
  {
   "cell_type": "markdown",
   "source": [
    "#### ASSISTments-2009 Raw dataset\n",
    "---"
   ],
   "metadata": {
    "collapsed": false
   }
  },
  {
   "cell_type": "code",
   "execution_count": 5,
   "outputs": [
    {
     "name": "stderr",
     "output_type": "stream",
     "text": [
      "/var/folders/3w/8x00rrfn2973f28r3bz1j6gr0000gn/T/ipykernel_74825/2512716542.py:1: DtypeWarning: Columns (17) have mixed types. Specify dtype option on import or set low_memory=False.\n",
      "  df_2009 = pd.read_csv('../data/raw_data/full_dataset_2009_corrected.csv',encoding='ISO-8859-1')\n"
     ]
    },
    {
     "data": {
      "text/plain": "        order_id  assignment_id  user_id  assistment_id  problem_id  original  \\\n0       33022537         277618    64525          33139       51424         1   \n1       33022709         277618    64525          33150       51435         1   \n2       35450204         220674    70363          33159       51444         1   \n3       35450295         220674    70363          33110       51395         1   \n4       35450311         220674    70363          33196       51481         1   \n...          ...            ...      ...            ...         ...       ...   \n401751  38214014         291495    96299          57830      108976         0   \n401752  38214016         291495    96299          57843      109015         0   \n401753  38214195         291503    96299          34577       54060         0   \n401754  38214196         291503    96299          34577       54061         0   \n401755  38214198         291503    96299          34577       54062         0   \n\n        correct  attempt_count  ms_first_response tutor_mode  ... hint_count  \\\n0             1              1              32454      tutor  ...          0   \n1             1              1               4922      tutor  ...          0   \n2             0              2              25390      tutor  ...          0   \n3             1              1               4859      tutor  ...          0   \n4             0             14              19813      tutor  ...          3   \n...         ...            ...                ...        ...  ...        ...   \n401751        1              1              38234      tutor  ...          0   \n401752        1              1               6500      tutor  ...          0   \n401753        1              1              18344      tutor  ...          0   \n401754        1              1              12922      tutor  ...          0   \n401755        0              9              36047      tutor  ...          1   \n\n        hint_total  overlap_time  template_id answer_id  answer_text  \\\n0                3         32454        30799       NaN           26   \n1                3          4922        30799       NaN           55   \n2                3         42000        30799       NaN           88   \n3                3          4859        30059       NaN           41   \n4                4        124564        30060       NaN           65   \n...            ...           ...          ...       ...          ...   \n401751           2         38234        55692  200260.0          NaN   \n401752           0          6500        55693  200299.0          NaN   \n401753           3         18344        30677       NaN          0.8   \n401754           2         12922        30677       NaN           -6   \n401755           3        163422        30677       NaN         -6.8   \n\n        first_action bottom_hint  opportunity  opportunity_original  \n0                  0         NaN            1                   1.0  \n1                  0         NaN            2                   2.0  \n2                  0         NaN            1                   1.0  \n3                  0         NaN            2                   2.0  \n4                  0         0.0            3                   3.0  \n...              ...         ...          ...                   ...  \n401751             0         NaN           54                   NaN  \n401752             0         NaN           55                   NaN  \n401753             0         NaN           56                   NaN  \n401754             0         NaN           57                   NaN  \n401755             0         0.0           58                   NaN  \n\n[401756 rows x 30 columns]",
      "text/html": "<div>\n<style scoped>\n    .dataframe tbody tr th:only-of-type {\n        vertical-align: middle;\n    }\n\n    .dataframe tbody tr th {\n        vertical-align: top;\n    }\n\n    .dataframe thead th {\n        text-align: right;\n    }\n</style>\n<table border=\"1\" class=\"dataframe\">\n  <thead>\n    <tr style=\"text-align: right;\">\n      <th></th>\n      <th>order_id</th>\n      <th>assignment_id</th>\n      <th>user_id</th>\n      <th>assistment_id</th>\n      <th>problem_id</th>\n      <th>original</th>\n      <th>correct</th>\n      <th>attempt_count</th>\n      <th>ms_first_response</th>\n      <th>tutor_mode</th>\n      <th>...</th>\n      <th>hint_count</th>\n      <th>hint_total</th>\n      <th>overlap_time</th>\n      <th>template_id</th>\n      <th>answer_id</th>\n      <th>answer_text</th>\n      <th>first_action</th>\n      <th>bottom_hint</th>\n      <th>opportunity</th>\n      <th>opportunity_original</th>\n    </tr>\n  </thead>\n  <tbody>\n    <tr>\n      <th>0</th>\n      <td>33022537</td>\n      <td>277618</td>\n      <td>64525</td>\n      <td>33139</td>\n      <td>51424</td>\n      <td>1</td>\n      <td>1</td>\n      <td>1</td>\n      <td>32454</td>\n      <td>tutor</td>\n      <td>...</td>\n      <td>0</td>\n      <td>3</td>\n      <td>32454</td>\n      <td>30799</td>\n      <td>NaN</td>\n      <td>26</td>\n      <td>0</td>\n      <td>NaN</td>\n      <td>1</td>\n      <td>1.0</td>\n    </tr>\n    <tr>\n      <th>1</th>\n      <td>33022709</td>\n      <td>277618</td>\n      <td>64525</td>\n      <td>33150</td>\n      <td>51435</td>\n      <td>1</td>\n      <td>1</td>\n      <td>1</td>\n      <td>4922</td>\n      <td>tutor</td>\n      <td>...</td>\n      <td>0</td>\n      <td>3</td>\n      <td>4922</td>\n      <td>30799</td>\n      <td>NaN</td>\n      <td>55</td>\n      <td>0</td>\n      <td>NaN</td>\n      <td>2</td>\n      <td>2.0</td>\n    </tr>\n    <tr>\n      <th>2</th>\n      <td>35450204</td>\n      <td>220674</td>\n      <td>70363</td>\n      <td>33159</td>\n      <td>51444</td>\n      <td>1</td>\n      <td>0</td>\n      <td>2</td>\n      <td>25390</td>\n      <td>tutor</td>\n      <td>...</td>\n      <td>0</td>\n      <td>3</td>\n      <td>42000</td>\n      <td>30799</td>\n      <td>NaN</td>\n      <td>88</td>\n      <td>0</td>\n      <td>NaN</td>\n      <td>1</td>\n      <td>1.0</td>\n    </tr>\n    <tr>\n      <th>3</th>\n      <td>35450295</td>\n      <td>220674</td>\n      <td>70363</td>\n      <td>33110</td>\n      <td>51395</td>\n      <td>1</td>\n      <td>1</td>\n      <td>1</td>\n      <td>4859</td>\n      <td>tutor</td>\n      <td>...</td>\n      <td>0</td>\n      <td>3</td>\n      <td>4859</td>\n      <td>30059</td>\n      <td>NaN</td>\n      <td>41</td>\n      <td>0</td>\n      <td>NaN</td>\n      <td>2</td>\n      <td>2.0</td>\n    </tr>\n    <tr>\n      <th>4</th>\n      <td>35450311</td>\n      <td>220674</td>\n      <td>70363</td>\n      <td>33196</td>\n      <td>51481</td>\n      <td>1</td>\n      <td>0</td>\n      <td>14</td>\n      <td>19813</td>\n      <td>tutor</td>\n      <td>...</td>\n      <td>3</td>\n      <td>4</td>\n      <td>124564</td>\n      <td>30060</td>\n      <td>NaN</td>\n      <td>65</td>\n      <td>0</td>\n      <td>0.0</td>\n      <td>3</td>\n      <td>3.0</td>\n    </tr>\n    <tr>\n      <th>...</th>\n      <td>...</td>\n      <td>...</td>\n      <td>...</td>\n      <td>...</td>\n      <td>...</td>\n      <td>...</td>\n      <td>...</td>\n      <td>...</td>\n      <td>...</td>\n      <td>...</td>\n      <td>...</td>\n      <td>...</td>\n      <td>...</td>\n      <td>...</td>\n      <td>...</td>\n      <td>...</td>\n      <td>...</td>\n      <td>...</td>\n      <td>...</td>\n      <td>...</td>\n      <td>...</td>\n    </tr>\n    <tr>\n      <th>401751</th>\n      <td>38214014</td>\n      <td>291495</td>\n      <td>96299</td>\n      <td>57830</td>\n      <td>108976</td>\n      <td>0</td>\n      <td>1</td>\n      <td>1</td>\n      <td>38234</td>\n      <td>tutor</td>\n      <td>...</td>\n      <td>0</td>\n      <td>2</td>\n      <td>38234</td>\n      <td>55692</td>\n      <td>200260.0</td>\n      <td>NaN</td>\n      <td>0</td>\n      <td>NaN</td>\n      <td>54</td>\n      <td>NaN</td>\n    </tr>\n    <tr>\n      <th>401752</th>\n      <td>38214016</td>\n      <td>291495</td>\n      <td>96299</td>\n      <td>57843</td>\n      <td>109015</td>\n      <td>0</td>\n      <td>1</td>\n      <td>1</td>\n      <td>6500</td>\n      <td>tutor</td>\n      <td>...</td>\n      <td>0</td>\n      <td>0</td>\n      <td>6500</td>\n      <td>55693</td>\n      <td>200299.0</td>\n      <td>NaN</td>\n      <td>0</td>\n      <td>NaN</td>\n      <td>55</td>\n      <td>NaN</td>\n    </tr>\n    <tr>\n      <th>401753</th>\n      <td>38214195</td>\n      <td>291503</td>\n      <td>96299</td>\n      <td>34577</td>\n      <td>54060</td>\n      <td>0</td>\n      <td>1</td>\n      <td>1</td>\n      <td>18344</td>\n      <td>tutor</td>\n      <td>...</td>\n      <td>0</td>\n      <td>3</td>\n      <td>18344</td>\n      <td>30677</td>\n      <td>NaN</td>\n      <td>0.8</td>\n      <td>0</td>\n      <td>NaN</td>\n      <td>56</td>\n      <td>NaN</td>\n    </tr>\n    <tr>\n      <th>401754</th>\n      <td>38214196</td>\n      <td>291503</td>\n      <td>96299</td>\n      <td>34577</td>\n      <td>54061</td>\n      <td>0</td>\n      <td>1</td>\n      <td>1</td>\n      <td>12922</td>\n      <td>tutor</td>\n      <td>...</td>\n      <td>0</td>\n      <td>2</td>\n      <td>12922</td>\n      <td>30677</td>\n      <td>NaN</td>\n      <td>-6</td>\n      <td>0</td>\n      <td>NaN</td>\n      <td>57</td>\n      <td>NaN</td>\n    </tr>\n    <tr>\n      <th>401755</th>\n      <td>38214198</td>\n      <td>291503</td>\n      <td>96299</td>\n      <td>34577</td>\n      <td>54062</td>\n      <td>0</td>\n      <td>0</td>\n      <td>9</td>\n      <td>36047</td>\n      <td>tutor</td>\n      <td>...</td>\n      <td>1</td>\n      <td>3</td>\n      <td>163422</td>\n      <td>30677</td>\n      <td>NaN</td>\n      <td>-6.8</td>\n      <td>0</td>\n      <td>0.0</td>\n      <td>58</td>\n      <td>NaN</td>\n    </tr>\n  </tbody>\n</table>\n<p>401756 rows × 30 columns</p>\n</div>"
     },
     "execution_count": 5,
     "metadata": {},
     "output_type": "execute_result"
    }
   ],
   "source": [
    "df_2009 = pd.read_csv('../data/raw_data/full_dataset_2009_corrected.csv',encoding='ISO-8859-1')\n",
    "df_2009\n"
   ],
   "metadata": {
    "collapsed": false,
    "ExecuteTime": {
     "end_time": "2023-06-29T02:28:31.895228Z",
     "start_time": "2023-06-29T02:28:31.258152Z"
    }
   }
  },
  {
   "cell_type": "markdown",
   "source": [
    "##### 2009-'response_time'"
   ],
   "metadata": {
    "collapsed": false
   }
  },
  {
   "cell_type": "code",
   "execution_count": 83,
   "outputs": [],
   "source": [
    "# ds = df_2009['ms_first_response'].value_counts().reset_index()\n",
    "# ds.columns = [\n",
    "#     'ms_first_response',\n",
    "#     'count'\n",
    "# ]\n",
    "#\n",
    "# ds = ds.sort_values('ms_first_response')\n",
    "#\n",
    "# fig = px.histogram(\n",
    "#     ds,\n",
    "#     x = 'ms_first_response',\n",
    "#     y = 'count',\n",
    "#     title = 'User action distribution'\n",
    "# )\n",
    "#\n",
    "# fig.show()"
   ],
   "metadata": {
    "collapsed": false
   }
  },
  {
   "cell_type": "code",
   "execution_count": 6,
   "outputs": [
    {
     "data": {
      "text/plain": "count    401756.000000\nmean         47.484643\nstd         361.458961\nmin       -7759.575000\n25%           8.518000\n50%          19.453000\n75%          44.578250\nmax       84076.920000\nName: ms_first_response, dtype: float64"
     },
     "execution_count": 6,
     "metadata": {},
     "output_type": "execute_result"
    }
   ],
   "source": [
    "df_2009['ms_first_response'] = df_2009['ms_first_response']/1000\n",
    "df_2009['ms_first_response'].describe()"
   ],
   "metadata": {
    "collapsed": false,
    "ExecuteTime": {
     "end_time": "2023-06-29T02:28:36.499900Z",
     "start_time": "2023-06-29T02:28:36.474439Z"
    }
   }
  },
  {
   "cell_type": "code",
   "execution_count": null,
   "outputs": [],
   "source": [],
   "metadata": {
    "collapsed": false
   }
  },
  {
   "cell_type": "code",
   "execution_count": 85,
   "outputs": [],
   "source": [
    "df_2009['ms_first_response'].mask(df_2009['ms_first_response'] < 1, 1,inplace=True)"
   ],
   "metadata": {
    "collapsed": false
   }
  },
  {
   "cell_type": "code",
   "execution_count": 86,
   "outputs": [
    {
     "data": {
      "text/plain": "        order_id  assignment_id  user_id  assistment_id  problem_id  original  \\\n0       33022537         277618    64525          33139       51424         1   \n1       33022709         277618    64525          33150       51435         1   \n2       35450204         220674    70363          33159       51444         1   \n3       35450295         220674    70363          33110       51395         1   \n4       35450311         220674    70363          33196       51481         1   \n...          ...            ...      ...            ...         ...       ...   \n401751  38214014         291495    96299          57830      108976         0   \n401752  38214016         291495    96299          57843      109015         0   \n401753  38214195         291503    96299          34577       54060         0   \n401754  38214196         291503    96299          34577       54061         0   \n401755  38214198         291503    96299          34577       54062         0   \n\n        correct  attempt_count  ms_first_response tutor_mode  ... hint_count  \\\n0             1              1             32.454      tutor  ...          0   \n1             1              1              4.922      tutor  ...          0   \n2             0              2             25.390      tutor  ...          0   \n3             1              1              4.859      tutor  ...          0   \n4             0             14             19.813      tutor  ...          3   \n...         ...            ...                ...        ...  ...        ...   \n401751        1              1             38.234      tutor  ...          0   \n401752        1              1              6.500      tutor  ...          0   \n401753        1              1             18.344      tutor  ...          0   \n401754        1              1             12.922      tutor  ...          0   \n401755        0              9             36.047      tutor  ...          1   \n\n        hint_total  overlap_time  template_id answer_id  answer_text  \\\n0                3         32454        30799       NaN           26   \n1                3          4922        30799       NaN           55   \n2                3         42000        30799       NaN           88   \n3                3          4859        30059       NaN           41   \n4                4        124564        30060       NaN           65   \n...            ...           ...          ...       ...          ...   \n401751           2         38234        55692  200260.0          NaN   \n401752           0          6500        55693  200299.0          NaN   \n401753           3         18344        30677       NaN          0.8   \n401754           2         12922        30677       NaN           -6   \n401755           3        163422        30677       NaN         -6.8   \n\n        first_action bottom_hint  opportunity  opportunity_original  \n0                  0         NaN            1                   1.0  \n1                  0         NaN            2                   2.0  \n2                  0         NaN            1                   1.0  \n3                  0         NaN            2                   2.0  \n4                  0         0.0            3                   3.0  \n...              ...         ...          ...                   ...  \n401751             0         NaN           54                   NaN  \n401752             0         NaN           55                   NaN  \n401753             0         NaN           56                   NaN  \n401754             0         NaN           57                   NaN  \n401755             0         0.0           58                   NaN  \n\n[399518 rows x 30 columns]",
      "text/html": "<div>\n<style scoped>\n    .dataframe tbody tr th:only-of-type {\n        vertical-align: middle;\n    }\n\n    .dataframe tbody tr th {\n        vertical-align: top;\n    }\n\n    .dataframe thead th {\n        text-align: right;\n    }\n</style>\n<table border=\"1\" class=\"dataframe\">\n  <thead>\n    <tr style=\"text-align: right;\">\n      <th></th>\n      <th>order_id</th>\n      <th>assignment_id</th>\n      <th>user_id</th>\n      <th>assistment_id</th>\n      <th>problem_id</th>\n      <th>original</th>\n      <th>correct</th>\n      <th>attempt_count</th>\n      <th>ms_first_response</th>\n      <th>tutor_mode</th>\n      <th>...</th>\n      <th>hint_count</th>\n      <th>hint_total</th>\n      <th>overlap_time</th>\n      <th>template_id</th>\n      <th>answer_id</th>\n      <th>answer_text</th>\n      <th>first_action</th>\n      <th>bottom_hint</th>\n      <th>opportunity</th>\n      <th>opportunity_original</th>\n    </tr>\n  </thead>\n  <tbody>\n    <tr>\n      <th>0</th>\n      <td>33022537</td>\n      <td>277618</td>\n      <td>64525</td>\n      <td>33139</td>\n      <td>51424</td>\n      <td>1</td>\n      <td>1</td>\n      <td>1</td>\n      <td>32.454</td>\n      <td>tutor</td>\n      <td>...</td>\n      <td>0</td>\n      <td>3</td>\n      <td>32454</td>\n      <td>30799</td>\n      <td>NaN</td>\n      <td>26</td>\n      <td>0</td>\n      <td>NaN</td>\n      <td>1</td>\n      <td>1.0</td>\n    </tr>\n    <tr>\n      <th>1</th>\n      <td>33022709</td>\n      <td>277618</td>\n      <td>64525</td>\n      <td>33150</td>\n      <td>51435</td>\n      <td>1</td>\n      <td>1</td>\n      <td>1</td>\n      <td>4.922</td>\n      <td>tutor</td>\n      <td>...</td>\n      <td>0</td>\n      <td>3</td>\n      <td>4922</td>\n      <td>30799</td>\n      <td>NaN</td>\n      <td>55</td>\n      <td>0</td>\n      <td>NaN</td>\n      <td>2</td>\n      <td>2.0</td>\n    </tr>\n    <tr>\n      <th>2</th>\n      <td>35450204</td>\n      <td>220674</td>\n      <td>70363</td>\n      <td>33159</td>\n      <td>51444</td>\n      <td>1</td>\n      <td>0</td>\n      <td>2</td>\n      <td>25.390</td>\n      <td>tutor</td>\n      <td>...</td>\n      <td>0</td>\n      <td>3</td>\n      <td>42000</td>\n      <td>30799</td>\n      <td>NaN</td>\n      <td>88</td>\n      <td>0</td>\n      <td>NaN</td>\n      <td>1</td>\n      <td>1.0</td>\n    </tr>\n    <tr>\n      <th>3</th>\n      <td>35450295</td>\n      <td>220674</td>\n      <td>70363</td>\n      <td>33110</td>\n      <td>51395</td>\n      <td>1</td>\n      <td>1</td>\n      <td>1</td>\n      <td>4.859</td>\n      <td>tutor</td>\n      <td>...</td>\n      <td>0</td>\n      <td>3</td>\n      <td>4859</td>\n      <td>30059</td>\n      <td>NaN</td>\n      <td>41</td>\n      <td>0</td>\n      <td>NaN</td>\n      <td>2</td>\n      <td>2.0</td>\n    </tr>\n    <tr>\n      <th>4</th>\n      <td>35450311</td>\n      <td>220674</td>\n      <td>70363</td>\n      <td>33196</td>\n      <td>51481</td>\n      <td>1</td>\n      <td>0</td>\n      <td>14</td>\n      <td>19.813</td>\n      <td>tutor</td>\n      <td>...</td>\n      <td>3</td>\n      <td>4</td>\n      <td>124564</td>\n      <td>30060</td>\n      <td>NaN</td>\n      <td>65</td>\n      <td>0</td>\n      <td>0.0</td>\n      <td>3</td>\n      <td>3.0</td>\n    </tr>\n    <tr>\n      <th>...</th>\n      <td>...</td>\n      <td>...</td>\n      <td>...</td>\n      <td>...</td>\n      <td>...</td>\n      <td>...</td>\n      <td>...</td>\n      <td>...</td>\n      <td>...</td>\n      <td>...</td>\n      <td>...</td>\n      <td>...</td>\n      <td>...</td>\n      <td>...</td>\n      <td>...</td>\n      <td>...</td>\n      <td>...</td>\n      <td>...</td>\n      <td>...</td>\n      <td>...</td>\n      <td>...</td>\n    </tr>\n    <tr>\n      <th>401751</th>\n      <td>38214014</td>\n      <td>291495</td>\n      <td>96299</td>\n      <td>57830</td>\n      <td>108976</td>\n      <td>0</td>\n      <td>1</td>\n      <td>1</td>\n      <td>38.234</td>\n      <td>tutor</td>\n      <td>...</td>\n      <td>0</td>\n      <td>2</td>\n      <td>38234</td>\n      <td>55692</td>\n      <td>200260.0</td>\n      <td>NaN</td>\n      <td>0</td>\n      <td>NaN</td>\n      <td>54</td>\n      <td>NaN</td>\n    </tr>\n    <tr>\n      <th>401752</th>\n      <td>38214016</td>\n      <td>291495</td>\n      <td>96299</td>\n      <td>57843</td>\n      <td>109015</td>\n      <td>0</td>\n      <td>1</td>\n      <td>1</td>\n      <td>6.500</td>\n      <td>tutor</td>\n      <td>...</td>\n      <td>0</td>\n      <td>0</td>\n      <td>6500</td>\n      <td>55693</td>\n      <td>200299.0</td>\n      <td>NaN</td>\n      <td>0</td>\n      <td>NaN</td>\n      <td>55</td>\n      <td>NaN</td>\n    </tr>\n    <tr>\n      <th>401753</th>\n      <td>38214195</td>\n      <td>291503</td>\n      <td>96299</td>\n      <td>34577</td>\n      <td>54060</td>\n      <td>0</td>\n      <td>1</td>\n      <td>1</td>\n      <td>18.344</td>\n      <td>tutor</td>\n      <td>...</td>\n      <td>0</td>\n      <td>3</td>\n      <td>18344</td>\n      <td>30677</td>\n      <td>NaN</td>\n      <td>0.8</td>\n      <td>0</td>\n      <td>NaN</td>\n      <td>56</td>\n      <td>NaN</td>\n    </tr>\n    <tr>\n      <th>401754</th>\n      <td>38214196</td>\n      <td>291503</td>\n      <td>96299</td>\n      <td>34577</td>\n      <td>54061</td>\n      <td>0</td>\n      <td>1</td>\n      <td>1</td>\n      <td>12.922</td>\n      <td>tutor</td>\n      <td>...</td>\n      <td>0</td>\n      <td>2</td>\n      <td>12922</td>\n      <td>30677</td>\n      <td>NaN</td>\n      <td>-6</td>\n      <td>0</td>\n      <td>NaN</td>\n      <td>57</td>\n      <td>NaN</td>\n    </tr>\n    <tr>\n      <th>401755</th>\n      <td>38214198</td>\n      <td>291503</td>\n      <td>96299</td>\n      <td>34577</td>\n      <td>54062</td>\n      <td>0</td>\n      <td>0</td>\n      <td>9</td>\n      <td>36.047</td>\n      <td>tutor</td>\n      <td>...</td>\n      <td>1</td>\n      <td>3</td>\n      <td>163422</td>\n      <td>30677</td>\n      <td>NaN</td>\n      <td>-6.8</td>\n      <td>0</td>\n      <td>0.0</td>\n      <td>58</td>\n      <td>NaN</td>\n    </tr>\n  </tbody>\n</table>\n<p>399518 rows × 30 columns</p>\n</div>"
     },
     "execution_count": 86,
     "metadata": {},
     "output_type": "execute_result"
    }
   ],
   "source": [
    "df_2009['ms_first_response'].describe()"
   ],
   "metadata": {
    "collapsed": false
   }
  },
  {
   "cell_type": "code",
   "execution_count": 87,
   "outputs": [],
   "source": [
    "df_2009['ms_first_response'].mode()"
   ],
   "metadata": {
    "collapsed": false
   }
  },
  {
   "cell_type": "code",
   "execution_count": 88,
   "outputs": [
    {
     "data": {
      "text/plain": "count    399518.000000\nmean         43.081616\nstd         100.989938\nmin           1.000000\n25%           8.640000\n50%          19.579000\n75%          44.750000\nmax        3960.676000\nName: ms_first_response, dtype: float64"
     },
     "execution_count": 88,
     "metadata": {},
     "output_type": "execute_result"
    }
   ],
   "source": [
    "df_2009['ms_first_response'].mask(df_2009['ms_first_response'] > 20000, df_2009['ms_first_response'].mean(),inplace=True)"
   ],
   "metadata": {
    "collapsed": false
   }
  },
  {
   "cell_type": "code",
   "execution_count": 89,
   "outputs": [
    {
     "data": {
      "text/plain": "0    6.25\nName: ms_first_response, dtype: float64"
     },
     "execution_count": 89,
     "metadata": {},
     "output_type": "execute_result"
    }
   ],
   "source": [
    "df_2009['ms_first_response'].describe()"
   ],
   "metadata": {
    "collapsed": false
   }
  },
  {
   "cell_type": "code",
   "execution_count": 133,
   "outputs": [
    {
     "data": {
      "text/plain": "<Figure size 432x288 with 1 Axes>",
      "image/png": "[encoded data removed]"
     },
     "metadata": {},
     "output_type": "display_data"
    }
   ],
   "source": [
    "plt.boxplot(df_2009['ms_first_response'])\n",
    "plt.show()"
   ],
   "metadata": {
    "collapsed": false
   }
  },
  {
   "cell_type": "code",
   "execution_count": 40,
   "outputs": [
    {
     "data": {
      "text/plain": "count    398842.000000\nmean         40.157869\nstd          65.415053\nmin           1.000000\n25%           8.625000\n50%          19.532000\n75%          44.530750\nmax         996.482000\nName: ms_first_response, dtype: float64"
     },
     "execution_count": 40,
     "metadata": {},
     "output_type": "execute_result"
    }
   ],
   "source": [
    "# Turkey method\n",
    "# q1 = np.percentile(df_2009['ms_first_response'],25)\n",
    "# q3 = np.percentile(df_2009['ms_first_response'],75)\n",
    "# IQR = q3 - q1\n",
    "# outlier_step = (3 * IQR)\n",
    "# upper = q3 + outlier_step\n",
    "# lower = q1 - outlier_step\n",
    "# df_2009['ms_first_response'].clip(lower,upper,inplace=True)\n",
    "#df_2009['ms_first_response'].describe()"
   ],
   "metadata": {
    "collapsed": false
   }
  },
  {
   "cell_type": "code",
   "execution_count": 90,
   "outputs": [
    {
     "data": {
      "text/plain": "<Figure size 432x288 with 1 Axes>",
      "image/png": "[encoded data removed]"
     },
     "metadata": {
      "needs_background": "light"
     },
     "output_type": "display_data"
    }
   ],
   "source": [],
   "metadata": {
    "collapsed": false
   }
  },
  {
   "cell_type": "code",
   "execution_count": 281,
   "outputs": [
    {
     "data": {
      "text/plain": "<Figure size 432x288 with 1 Axes>",
      "image/png": "[encoded data removed]"
     },
     "metadata": {
      "needs_background": "light"
     },
     "output_type": "display_data"
    }
   ],
   "source": [
    "plt.boxplot(df_2009['ms_first_response'])\n",
    "plt.show()"
   ],
   "metadata": {
    "collapsed": false
   }
  },
  {
   "cell_type": "code",
   "execution_count": 123,
   "outputs": [
    {
     "data": {
      "text/plain": "0    0.001\nName: ms_first_response, dtype: float64"
     },
     "execution_count": 123,
     "metadata": {},
     "output_type": "execute_result"
    }
   ],
   "source": [
    "df_2009['ms_first_response'].mode()"
   ],
   "metadata": {
    "collapsed": false
   }
  },
  {
   "cell_type": "code",
   "execution_count": 126,
   "outputs": [],
   "source": [
    "df_2009['ms_first_response'].mask(df_2009['ms_first_response'] < 1, df_2009['ms_first_response'].mean(),inplace=True)"
   ],
   "metadata": {
    "collapsed": false
   }
  },
  {
   "cell_type": "code",
   "execution_count": 127,
   "outputs": [
    {
     "data": {
      "text/plain": "count    401756.000000\nmean         46.630935\nstd         228.266567\nmin           1.000000\n25%           8.687000\n50%          19.757000\n75%          45.495000\nmax       28814.407000\nName: ms_first_response, dtype: float64"
     },
     "execution_count": 127,
     "metadata": {},
     "output_type": "execute_result"
    }
   ],
   "source": [
    "df_2009['ms_first_response'].describe()"
   ],
   "metadata": {
    "collapsed": false
   }
  },
  {
   "cell_type": "code",
   "execution_count": 41,
   "outputs": [
    {
     "data": {
      "text/plain": "count    398842.000000\nmean         40.157869\nstd          65.415053\nmin           1.000000\n25%           8.625000\n50%          19.532000\n75%          44.530750\nmax         996.482000\nName: ms_first_response, dtype: float64"
     },
     "execution_count": 41,
     "metadata": {},
     "output_type": "execute_result"
    }
   ],
   "source": [],
   "metadata": {
    "collapsed": false
   }
  },
  {
   "cell_type": "code",
   "execution_count": 91,
   "outputs": [
    {
     "data": {
      "text/plain": "[64525,\n 70363,\n 70677,\n 70695,\n 70699,\n 70707,\n 70727,\n 70729,\n 70730,\n 70733,\n 70736,\n 70746,\n 70756,\n 70759,\n 70872,\n 70874,\n 71175,\n 71176,\n 71177,\n 71179,\n 71183,\n 71187,\n 71190,\n 71193,\n 71205,\n 71209,\n 71211,\n 71212,\n 71221,\n 71224,\n 71225,\n 71227,\n 71230,\n 71231,\n 71232,\n 71250,\n 71740,\n 71826,\n 71831,\n 71872,\n 71874,\n 71881,\n 72059,\n 72378,\n 72880,\n 73684,\n 73685,\n 73962,\n 74698,\n 75169,\n 78073,\n 78673,\n 78675,\n 78903,\n 78904,\n 78905,\n 78906,\n 78907,\n 78908,\n 78909,\n 78910,\n 78911,\n 78912,\n 78913,\n 78914,\n 78915,\n 78916,\n 78917,\n 78918,\n 78919,\n 78920,\n 78921,\n 78922,\n 78923,\n 78926,\n 78970,\n 78971,\n 78972,\n 78974,\n 78976,\n 78977,\n 78978,\n 78979,\n 78980,\n 78981,\n 78982,\n 78983,\n 78984,\n 78985,\n 78986,\n 78987,\n 78988,\n 78989,\n 78990,\n 78991,\n 78992,\n 79012,\n 79013,\n 79014,\n 79015,\n 79016,\n 79017,\n 79018,\n 79019,\n 79020,\n 79021,\n 79022,\n 79023,\n 79024,\n 79026,\n 79027,\n 79029,\n 79031,\n 79032,\n 79033,\n 79034,\n 79054,\n 79055,\n 79056,\n 79057,\n 79058,\n 79059,\n 79060,\n 79061,\n 79062,\n 79063,\n 79064,\n 79066,\n 79067,\n 79068,\n 79069,\n 79070,\n 79071,\n 79073,\n 79074,\n 79075,\n 79217,\n 79264,\n 79319,\n 79411,\n 79414,\n 79415,\n 79419,\n 79547,\n 79578,\n 79580,\n 79581,\n 79582,\n 79583,\n 79584,\n 79585,\n 79586,\n 79632,\n 79682,\n 79735,\n 79736,\n 79737,\n 79738,\n 79739,\n 79740,\n 79741,\n 79742,\n 79744,\n 79745,\n 79746,\n 79748,\n 79749,\n 79750,\n 79752,\n 79760,\n 79762,\n 79763,\n 79764,\n 79765,\n 79766,\n 79768,\n 79769,\n 79772,\n 79774,\n 79776,\n 79777,\n 79865,\n 79884,\n 79890,\n 79896,\n 79906,\n 79907,\n 79908,\n 79911,\n 80171,\n 80172,\n 80173,\n 80174,\n 80175,\n 80176,\n 80177,\n 80179,\n 80180,\n 80181,\n 80182,\n 80217,\n 80350,\n 80352,\n 80353,\n 80354,\n 80358,\n 80360,\n 80807,\n 81010,\n 81011,\n 81036,\n 81037,\n 81195,\n 81196,\n 81198,\n 81199,\n 81200,\n 81446,\n 81457,\n 81458,\n 81464,\n 81470,\n 81541,\n 81576,\n 81577,\n 81578,\n 81604,\n 81619,\n 81641,\n 81648,\n 81773,\n 82391,\n 82392,\n 82394,\n 82395,\n 82397,\n 82403,\n 82430,\n 82434,\n 82438,\n 82440,\n 82441,\n 82446,\n 82448,\n 82476,\n 82477,\n 82479,\n 82481,\n 82482,\n 82483,\n 82485,\n 82516,\n 82523,\n 82532,\n 82533,\n 82534,\n 82540,\n 82541,\n 82542,\n 82545,\n 82550,\n 82553,\n 82555,\n 82556,\n 82558,\n 82559,\n 83169,\n 83176,\n 83388,\n 83691,\n 83696,\n 83766,\n 84316,\n 84327,\n 84981,\n 85054,\n 85074,\n 85088,\n 85369,\n 85646,\n 85651,\n 85654,\n 85656,\n 85658,\n 85685,\n 85686,\n 85687,\n 85690,\n 85691,\n 85693,\n 85694,\n 85696,\n 85697,\n 85698,\n 85699,\n 85701,\n 85714,\n 85715,\n 85716,\n 85717,\n 85719,\n 85720,\n 85721,\n 85722,\n 85724,\n 85725,\n 85726,\n 85727,\n 85728,\n 85729,\n 85730,\n 86045,\n 86395,\n 86398,\n 86406,\n 86407,\n 86410,\n 86412,\n 86420,\n 86426,\n 86428,\n 86429,\n 86433,\n 86439,\n 86440,\n 86444,\n 86445,\n 86484,\n 86489,\n 86492,\n 86562,\n 87606,\n 88737,\n 88795,\n 89335,\n 89337,\n 89338,\n 89339,\n 89341,\n 89343,\n 89344,\n 89345,\n 89346,\n 89347,\n 89348,\n 89349,\n 89353,\n 89354,\n 89355,\n 89356,\n 89357,\n 89359,\n 89360,\n 89361,\n 89362,\n 89364,\n 89365,\n 89369,\n 89370,\n 89371,\n 89372,\n 89374,\n 89375,\n 89376,\n 89377,\n 89378,\n 89485,\n 90179,\n 90188,\n 90194,\n 90195,\n 91241,\n 91242,\n 91243,\n 91246,\n 91253,\n 91256,\n 91257,\n 91258,\n 91260,\n 91262,\n 91299,\n 91300,\n 91301,\n 91306,\n 91309,\n 91406,\n 91407,\n 91408,\n 91409,\n 91410,\n 91411,\n 91412,\n 91413,\n 91414,\n 91415,\n 91418,\n 91436,\n 91459,\n 91461,\n 91462,\n 91464,\n 91465,\n 91466,\n 91467,\n 91469,\n 91470,\n 91471,\n 91472,\n 91473,\n 91474,\n 91502,\n 91664,\n 91665,\n 91749,\n 91765,\n 91766,\n 91767,\n 91768,\n 91769,\n 91770,\n 91771,\n 92225,\n 96210,\n 96211,\n 96212,\n 96213,\n 96214,\n 96215,\n 96216,\n 96217,\n 96218,\n 96219,\n 96220,\n 96221,\n 96222,\n 96223,\n 96224,\n 96225,\n 96226,\n 96227,\n 96228,\n 96229,\n 96230,\n 96231,\n 96232,\n 96235,\n 96236,\n 96237,\n 96239,\n 96241,\n 96242,\n 96243,\n 96244,\n 96245,\n 96246,\n 96247,\n 96248,\n 96249,\n 96250,\n 96252,\n 96253,\n 96254,\n 96255,\n 96256,\n 96257,\n 96258,\n 96259,\n 96260,\n 96262,\n 96263,\n 96264,\n 96265,\n 96266,\n 96267,\n 96268,\n 96269,\n 96270,\n 96271,\n 96273,\n 96274,\n 96275,\n 96276,\n 96277,\n 96278,\n 96279,\n 96280,\n 96281,\n 96282,\n 96283,\n 96284,\n 96285,\n 96286,\n 96287,\n 96288,\n 96289,\n 96290,\n 96291,\n 96292,\n 96293,\n 96294,\n 96295,\n 96296,\n 96297,\n 96298,\n 14,\n 70701,\n 70702,\n 70704,\n 70708,\n 70731,\n 70740,\n 70744,\n 70745,\n 70816,\n 71066,\n 71105,\n 71557,\n 71810,\n 71829,\n 71830,\n 71877,\n 74384,\n 74459,\n 74674,\n 77902,\n 77939,\n 77945,\n 77948,\n 77949,\n 77954,\n 77955,\n 77956,\n 77957,\n 77958,\n 77960,\n 77962,\n 77963,\n 77965,\n 77966,\n 77967,\n 77970,\n 77973,\n 78504,\n 78575,\n 78579,\n 78582,\n 78588,\n 78785,\n 78803,\n 78804,\n 78805,\n 78806,\n 78807,\n 78808,\n 78809,\n 78810,\n 78811,\n 78812,\n 78813,\n 78814,\n 78815,\n 78816,\n 78817,\n 78818,\n 78819,\n 78833,\n 78834,\n 78835,\n 78836,\n 78837,\n 78838,\n 78839,\n 78840,\n 78842,\n 78843,\n 78844,\n 78845,\n 78846,\n 78847,\n 78848,\n 78849,\n 78877,\n 78879,\n 78880,\n 78883,\n 78885,\n 78886,\n 78888,\n 78890,\n 78892,\n 78893,\n 78894,\n 78895,\n 78897,\n 78928,\n 78944,\n 78945,\n 78946,\n 78947,\n 78948,\n 78949,\n 78951,\n 78952,\n 78953,\n 78954,\n 78955,\n 78956,\n 78957,\n 78958,\n 78959,\n 78993,\n 78994,\n 78995,\n 78996,\n 78997,\n 78998,\n 79000,\n 79001,\n 79002,\n 79003,\n 79004,\n 79005,\n 79006,\n 79007,\n 79008,\n 79011,\n 79148,\n 79150,\n 79156,\n 79161,\n 79213,\n 79214,\n 79218,\n 79219,\n 79220,\n 79224,\n 79246,\n 79481,\n 79522,\n 79606,\n 79608,\n 79611,\n 79613,\n 79614,\n 79615,\n 79616,\n 79617,\n 79618,\n 79619,\n 79620,\n 79621,\n 79622,\n 79623,\n 79625,\n 79627,\n 79661,\n 79662,\n 79663,\n 79664,\n 79665,\n 79666,\n 79667,\n 79668,\n 79670,\n 79673,\n 79675,\n 79680,\n 79681,\n 79683,\n 79687,\n 79688,\n 79689,\n 79690,\n 79691,\n 79693,\n 79697,\n 79698,\n 79703,\n 79704,\n 79720,\n 79729,\n 79747,\n 79761,\n 79773,\n 79797,\n 79990,\n 80136,\n 80223,\n 80224,\n 80225,\n 80226,\n 80227,\n 80228,\n 80229,\n 80230,\n 80231,\n 80233,\n 80234,\n 80235,\n 80649,\n 80650,\n 80651,\n 80715,\n 80717,\n 80718,\n 80719,\n 80720,\n 80919,\n 80928,\n 80954,\n 80988,\n 80989,\n 80992,\n 81040,\n 81049,\n 81054,\n 81083,\n 81096,\n 81438,\n 81448,\n 81481,\n 81485,\n 81486,\n 81488,\n 81884,\n 81888,\n 81892,\n 81896,\n 81905,\n 81909,\n 81928,\n 81935,\n 81937,\n 81944,\n 81947,\n 81983,\n 82037,\n 82079,\n 82093,\n 82095,\n 82142,\n 83177,\n 83193,\n 83195,\n 83197,\n 83201,\n 83206,\n 83209,\n 83250,\n 83302,\n 83480,\n 83594,\n 83632,\n 83639,\n 83653,\n 83654,\n 83860,\n 83957,\n 83961,\n 84309,\n 84311,\n 84320,\n 84324,\n 84329,\n 84337,\n 84338,\n 84341,\n 84346,\n 84347,\n 84362,\n 84370,\n 84374,\n 84381,\n 84388,\n 84391,\n 84396,\n 84397,\n 84399,\n 84611,\n 84665,\n 84667,\n 84686,\n 84738,\n 84740,\n 84742,\n 84747,\n 84760,\n 84785,\n 84994,\n 85282,\n 85283,\n 85284,\n 85300,\n 85304,\n 85305,\n 85308,\n 85648,\n 85828,\n 86303,\n 86305,\n 86306,\n 86307,\n 86308,\n 86309,\n 86310,\n 86311,\n 86312,\n 86313,\n 86314,\n 86316,\n 86317,\n 86318,\n 86320,\n 86321,\n 86322,\n 86324,\n 86325,\n 86327,\n 86330,\n 86666,\n 86667,\n 87132,\n 87133,\n 87135,\n 87503,\n 88011,\n 88012,\n 88131,\n 88133,\n 88136,\n 88144,\n 88145,\n 88148,\n 88151,\n 88152,\n 88157,\n 88158,\n 88173,\n 88175,\n 89157,\n 89164,\n 89169,\n 89215,\n 90108,\n 90171,\n 90433,\n 91447,\n 91448,\n 91453,\n 91676,\n 71821,\n 71876,\n 75361,\n 79030,\n 89450,\n 90178,\n 91244,\n 91245,\n 91247,\n 91248,\n 91250,\n 91251,\n 91254,\n 96251,\n 96272,\n 52613,\n 70688,\n 70732,\n 71807,\n 74678,\n 74964,\n 77899,\n 78154,\n 78157,\n 78158,\n 78163,\n 78164,\n 78167,\n 78168,\n 78169,\n 78171,\n 78173,\n 78174,\n 78175,\n 78178,\n 78267,\n 78269,\n 78270,\n 78272,\n 78276,\n 78277,\n 78278,\n 78280,\n 78281,\n 78282,\n 78283,\n 78285,\n 78286,\n 78385,\n 78572,\n 78595,\n 79111,\n 83111,\n 83112,\n 83128,\n 83129,\n 83132,\n 83190,\n 83705,\n 83925,\n 83929,\n 83954,\n 86384,\n 86552,\n 86553,\n 86554,\n 86555,\n 86558,\n 86559,\n 87430,\n 87599,\n 89049,\n 89104,\n 89116,\n 89156,\n 89252,\n 90208,\n 53167,\n 78968,\n 79588,\n 79672,\n 79678,\n 79743,\n 80911,\n 80912,\n 80914,\n 80915,\n 80916,\n 80917,\n 80918,\n 80923,\n 80924,\n 80941,\n 80950,\n 80984,\n 80996,\n 81020,\n 81028,\n 81030,\n 81405,\n 81614,\n 85689,\n 85692,\n 86551,\n 86556,\n 86557,\n 87166,\n 87313,\n 87318,\n 87320,\n 87325,\n 87326,\n 87328,\n 87332,\n 87334,\n 87340,\n 87342,\n 87343,\n 87345,\n 87347,\n 87348,\n 87350,\n 87353,\n 87357,\n 87359,\n 87360,\n 87361,\n 87362,\n 87363,\n 87364,\n 96233,\n 70679,\n 70728,\n 70750,\n 71191,\n 71210,\n 77984,\n 78034,\n 78035,\n 78037,\n 78038,\n 78039,\n 78040,\n 78041,\n 78042,\n 78043,\n 78044,\n 78045,\n 78046,\n ...]"
     },
     "execution_count": 91,
     "metadata": {},
     "output_type": "execute_result"
    }
   ],
   "source": [
    "ids = df_2009.user_id.unique().tolist()  # 获得去重后的ids\n",
    "ids"
   ],
   "metadata": {
    "collapsed": false
   }
  },
  {
   "cell_type": "code",
   "execution_count": 92,
   "outputs": [
    {
     "data": {
      "text/plain": "{1.0: 0,\n 2.0: 1,\n 4.0: 2,\n 5.0: 3,\n 8.0: 4,\n 9.0: 5,\n 10.0: 6,\n 11.0: 7,\n 12.0: 8,\n 13.0: 9,\n 14.0: 10,\n 15.0: 11,\n 16.0: 12,\n 17.0: 13,\n 18.0: 14,\n 21.0: 15,\n 22.0: 16,\n 24.0: 17,\n 25.0: 18,\n 26.0: 19,\n 27.0: 20,\n 32.0: 21,\n 34.0: 22,\n 35.0: 23,\n 37.0: 24,\n 39.0: 25,\n 40.0: 26,\n 42.0: 27,\n 43.0: 28,\n 46.0: 29,\n 47.0: 30,\n 48.0: 31,\n 49.0: 32,\n 50.0: 33,\n 51.0: 34,\n 53.0: 35,\n 54.0: 36,\n 58.0: 37,\n 61.0: 38,\n 63.0: 39,\n 64.0: 40,\n 65.0: 41,\n 67.0: 42,\n 69.0: 43,\n 70.0: 44,\n 74.0: 45,\n 75.0: 46,\n 76.0: 47,\n 77.0: 48,\n 79.0: 49,\n 80.0: 50,\n 81.0: 51,\n 82.0: 52,\n 83.0: 53,\n 84.0: 54,\n 85.0: 55,\n 86.0: 56,\n 91.0: 57,\n 92.0: 58,\n 94.0: 59,\n 96.0: 60,\n 97.0: 61,\n 99.0: 62,\n 101.0: 63,\n 102.0: 64,\n 104.0: 65,\n 105.0: 66,\n 110.0: 67,\n 163.0: 68,\n 165.0: 69,\n 166.0: 70,\n 173.0: 71,\n 190.0: 72,\n 193.0: 73,\n 203.0: 74,\n 204.0: 75,\n 217.0: 76,\n 221.0: 77,\n 276.0: 78,\n 277.0: 79,\n 278.0: 80,\n 279.0: 81,\n 280.0: 82,\n 290.0: 83,\n 292.0: 84,\n 293.0: 85,\n 294.0: 86,\n 295.0: 87,\n 296.0: 88,\n 297.0: 89,\n 298.0: 90,\n 299.0: 91,\n 301.0: 92,\n 303.0: 93,\n 307.0: 94,\n 308.0: 95,\n 309.0: 96,\n 310.0: 97,\n 311.0: 98,\n 312.0: 99,\n 314.0: 100,\n 317.0: 101,\n 321.0: 102,\n 322.0: 103,\n 323.0: 104,\n 324.0: 105,\n 325.0: 106,\n 331.0: 107,\n 333.0: 108,\n 334.0: 109,\n 340.0: 110,\n 343.0: 111,\n 346.0: 112,\n 348.0: 113,\n 350.0: 114,\n 356.0: 115,\n 362.0: 116,\n 365.0: 117,\n 367.0: 118,\n 368.0: 119,\n 371.0: 120,\n 375.0: 121,\n 378.0: 122,\n nan: 123}"
     },
     "execution_count": 92,
     "metadata": {},
     "output_type": "execute_result"
    }
   ],
   "source": [
    "skill_map = {}  # 设置空字典\n",
    "for index, s in enumerate(df_2009.skill_id.unique().tolist()):  # 对 skill 去重 并进行带下标的遍历\n",
    "    skill_map[s] = index  # 将值和下标添加到字典\n",
    "skill_map  # 更新后的字典"
   ],
   "metadata": {
    "collapsed": false
   }
  },
  {
   "cell_type": "code",
   "execution_count": 93,
   "outputs": [
    {
     "data": {
      "text/plain": "        order_id  assignment_id  user_id  assistment_id  problem_id  original  \\\n0       33022537         277618    64525          33139       51424         1   \n1       33022709         277618    64525          33150       51435         1   \n2       35450204         220674    70363          33159       51444         1   \n3       35450295         220674    70363          33110       51395         1   \n4       35450311         220674    70363          33196       51481         1   \n...          ...            ...      ...            ...         ...       ...   \n401751  38214014         291495    96299          57830      108976         0   \n401752  38214016         291495    96299          57843      109015         0   \n401753  38214195         291503    96299          34577       54060         0   \n401754  38214196         291503    96299          34577       54061         0   \n401755  38214198         291503    96299          34577       54062         0   \n\n        correct  attempt_count  ms_first_response tutor_mode  ... hint_count  \\\n0             1              1             32.454      tutor  ...          0   \n1             1              1              4.922      tutor  ...          0   \n2             0              2             25.390      tutor  ...          0   \n3             1              1              4.859      tutor  ...          0   \n4             0             14             19.813      tutor  ...          3   \n...         ...            ...                ...        ...  ...        ...   \n401751        1              1             38.234      tutor  ...          0   \n401752        1              1              6.500      tutor  ...          0   \n401753        1              1             18.344      tutor  ...          0   \n401754        1              1             12.922      tutor  ...          0   \n401755        0              9             36.047      tutor  ...          1   \n\n        hint_total  overlap_time  template_id answer_id  answer_text  \\\n0                3         32454        30799       NaN           26   \n1                3          4922        30799       NaN           55   \n2                3         42000        30799       NaN           88   \n3                3          4859        30059       NaN           41   \n4                4        124564        30060       NaN           65   \n...            ...           ...          ...       ...          ...   \n401751           2         38234        55692  200260.0          NaN   \n401752           0          6500        55693  200299.0          NaN   \n401753           3         18344        30677       NaN          0.8   \n401754           2         12922        30677       NaN           -6   \n401755           3        163422        30677       NaN         -6.8   \n\n        first_action bottom_hint  opportunity  opportunity_original  \n0                  0         NaN            1                   1.0  \n1                  0         NaN            2                   2.0  \n2                  0         NaN            1                   1.0  \n3                  0         NaN            2                   2.0  \n4                  0         0.0            3                   3.0  \n...              ...         ...          ...                   ...  \n401751             0         NaN           54                   NaN  \n401752             0         NaN           55                   NaN  \n401753             0         NaN           56                   NaN  \n401754             0         NaN           57                   NaN  \n401755             0         0.0           58                   NaN  \n\n[399518 rows x 30 columns]",
      "text/html": "<div>\n<style scoped>\n    .dataframe tbody tr th:only-of-type {\n        vertical-align: middle;\n    }\n\n    .dataframe tbody tr th {\n        vertical-align: top;\n    }\n\n    .dataframe thead th {\n        text-align: right;\n    }\n</style>\n<table border=\"1\" class=\"dataframe\">\n  <thead>\n    <tr style=\"text-align: right;\">\n      <th></th>\n      <th>order_id</th>\n      <th>assignment_id</th>\n      <th>user_id</th>\n      <th>assistment_id</th>\n      <th>problem_id</th>\n      <th>original</th>\n      <th>correct</th>\n      <th>attempt_count</th>\n      <th>ms_first_response</th>\n      <th>tutor_mode</th>\n      <th>...</th>\n      <th>hint_count</th>\n      <th>hint_total</th>\n      <th>overlap_time</th>\n      <th>template_id</th>\n      <th>answer_id</th>\n      <th>answer_text</th>\n      <th>first_action</th>\n      <th>bottom_hint</th>\n      <th>opportunity</th>\n      <th>opportunity_original</th>\n    </tr>\n  </thead>\n  <tbody>\n    <tr>\n      <th>0</th>\n      <td>33022537</td>\n      <td>277618</td>\n      <td>64525</td>\n      <td>33139</td>\n      <td>51424</td>\n      <td>1</td>\n      <td>1</td>\n      <td>1</td>\n      <td>32.454</td>\n      <td>tutor</td>\n      <td>...</td>\n      <td>0</td>\n      <td>3</td>\n      <td>32454</td>\n      <td>30799</td>\n      <td>NaN</td>\n      <td>26</td>\n      <td>0</td>\n      <td>NaN</td>\n      <td>1</td>\n      <td>1.0</td>\n    </tr>\n    <tr>\n      <th>1</th>\n      <td>33022709</td>\n      <td>277618</td>\n      <td>64525</td>\n      <td>33150</td>\n      <td>51435</td>\n      <td>1</td>\n      <td>1</td>\n      <td>1</td>\n      <td>4.922</td>\n      <td>tutor</td>\n      <td>...</td>\n      <td>0</td>\n      <td>3</td>\n      <td>4922</td>\n      <td>30799</td>\n      <td>NaN</td>\n      <td>55</td>\n      <td>0</td>\n      <td>NaN</td>\n      <td>2</td>\n      <td>2.0</td>\n    </tr>\n    <tr>\n      <th>2</th>\n      <td>35450204</td>\n      <td>220674</td>\n      <td>70363</td>\n      <td>33159</td>\n      <td>51444</td>\n      <td>1</td>\n      <td>0</td>\n      <td>2</td>\n      <td>25.390</td>\n      <td>tutor</td>\n      <td>...</td>\n      <td>0</td>\n      <td>3</td>\n      <td>42000</td>\n      <td>30799</td>\n      <td>NaN</td>\n      <td>88</td>\n      <td>0</td>\n      <td>NaN</td>\n      <td>1</td>\n      <td>1.0</td>\n    </tr>\n    <tr>\n      <th>3</th>\n      <td>35450295</td>\n      <td>220674</td>\n      <td>70363</td>\n      <td>33110</td>\n      <td>51395</td>\n      <td>1</td>\n      <td>1</td>\n      <td>1</td>\n      <td>4.859</td>\n      <td>tutor</td>\n      <td>...</td>\n      <td>0</td>\n      <td>3</td>\n      <td>4859</td>\n      <td>30059</td>\n      <td>NaN</td>\n      <td>41</td>\n      <td>0</td>\n      <td>NaN</td>\n      <td>2</td>\n      <td>2.0</td>\n    </tr>\n    <tr>\n      <th>4</th>\n      <td>35450311</td>\n      <td>220674</td>\n      <td>70363</td>\n      <td>33196</td>\n      <td>51481</td>\n      <td>1</td>\n      <td>0</td>\n      <td>14</td>\n      <td>19.813</td>\n      <td>tutor</td>\n      <td>...</td>\n      <td>3</td>\n      <td>4</td>\n      <td>124564</td>\n      <td>30060</td>\n      <td>NaN</td>\n      <td>65</td>\n      <td>0</td>\n      <td>0.0</td>\n      <td>3</td>\n      <td>3.0</td>\n    </tr>\n    <tr>\n      <th>...</th>\n      <td>...</td>\n      <td>...</td>\n      <td>...</td>\n      <td>...</td>\n      <td>...</td>\n      <td>...</td>\n      <td>...</td>\n      <td>...</td>\n      <td>...</td>\n      <td>...</td>\n      <td>...</td>\n      <td>...</td>\n      <td>...</td>\n      <td>...</td>\n      <td>...</td>\n      <td>...</td>\n      <td>...</td>\n      <td>...</td>\n      <td>...</td>\n      <td>...</td>\n      <td>...</td>\n    </tr>\n    <tr>\n      <th>401751</th>\n      <td>38214014</td>\n      <td>291495</td>\n      <td>96299</td>\n      <td>57830</td>\n      <td>108976</td>\n      <td>0</td>\n      <td>1</td>\n      <td>1</td>\n      <td>38.234</td>\n      <td>tutor</td>\n      <td>...</td>\n      <td>0</td>\n      <td>2</td>\n      <td>38234</td>\n      <td>55692</td>\n      <td>200260.0</td>\n      <td>NaN</td>\n      <td>0</td>\n      <td>NaN</td>\n      <td>54</td>\n      <td>NaN</td>\n    </tr>\n    <tr>\n      <th>401752</th>\n      <td>38214016</td>\n      <td>291495</td>\n      <td>96299</td>\n      <td>57843</td>\n      <td>109015</td>\n      <td>0</td>\n      <td>1</td>\n      <td>1</td>\n      <td>6.500</td>\n      <td>tutor</td>\n      <td>...</td>\n      <td>0</td>\n      <td>0</td>\n      <td>6500</td>\n      <td>55693</td>\n      <td>200299.0</td>\n      <td>NaN</td>\n      <td>0</td>\n      <td>NaN</td>\n      <td>55</td>\n      <td>NaN</td>\n    </tr>\n    <tr>\n      <th>401753</th>\n      <td>38214195</td>\n      <td>291503</td>\n      <td>96299</td>\n      <td>34577</td>\n      <td>54060</td>\n      <td>0</td>\n      <td>1</td>\n      <td>1</td>\n      <td>18.344</td>\n      <td>tutor</td>\n      <td>...</td>\n      <td>0</td>\n      <td>3</td>\n      <td>18344</td>\n      <td>30677</td>\n      <td>NaN</td>\n      <td>0.8</td>\n      <td>0</td>\n      <td>NaN</td>\n      <td>56</td>\n      <td>NaN</td>\n    </tr>\n    <tr>\n      <th>401754</th>\n      <td>38214196</td>\n      <td>291503</td>\n      <td>96299</td>\n      <td>34577</td>\n      <td>54061</td>\n      <td>0</td>\n      <td>1</td>\n      <td>1</td>\n      <td>12.922</td>\n      <td>tutor</td>\n      <td>...</td>\n      <td>0</td>\n      <td>2</td>\n      <td>12922</td>\n      <td>30677</td>\n      <td>NaN</td>\n      <td>-6</td>\n      <td>0</td>\n      <td>NaN</td>\n      <td>57</td>\n      <td>NaN</td>\n    </tr>\n    <tr>\n      <th>401755</th>\n      <td>38214198</td>\n      <td>291503</td>\n      <td>96299</td>\n      <td>34577</td>\n      <td>54062</td>\n      <td>0</td>\n      <td>0</td>\n      <td>9</td>\n      <td>36.047</td>\n      <td>tutor</td>\n      <td>...</td>\n      <td>1</td>\n      <td>3</td>\n      <td>163422</td>\n      <td>30677</td>\n      <td>NaN</td>\n      <td>-6.8</td>\n      <td>0</td>\n      <td>0.0</td>\n      <td>58</td>\n      <td>NaN</td>\n    </tr>\n  </tbody>\n</table>\n<p>399518 rows × 30 columns</p>\n</div>"
     },
     "execution_count": 93,
     "metadata": {},
     "output_type": "execute_result"
    }
   ],
   "source": [
    "df_2009"
   ],
   "metadata": {
    "collapsed": false
   }
  },
  {
   "cell_type": "code",
   "execution_count": 94,
   "outputs": [],
   "source": [
    "for id in ids:  # 遍历所有id\n",
    "    id_count = str(df_2009.query(f'user_id=={id}').shape[0])  # 获得该id的个数\n",
    "    id_skill = df_2009.query(f'user_id=={id}').skill_id.map(skill_map).astype(\n",
    "        str).to_list()  # 通过当前id进行筛选,并通过刚才的字典做映射,转换为str,转换为列表\n",
    "    id_correct = df_2009.query(f'user_id=={id}').correct.astype(\n",
    "        str).to_list()  # 通过当前id进行筛选,转换为str,转换为列表\n",
    "    id_timeTaken = df_2009.query(f'user_id=={id}').ms_first_response.astype(\n",
    "        int).astype(str).to_list()  # 通过当前id进行筛选,转换为整数,转换为str,转换为列表\n",
    "    with open('features_2009_data.csv', 'a') as f:  # 新建 txt 文档\n",
    "        f.write(id_count+'\\n')  # 写入 学生做题的数量\n",
    "        f.write(','.join(id_skill)+'\\n')  # 写入 对应的映射数字\n",
    "        f.write(','.join(id_correct)+'\\n')  # 写入对错情况\n",
    "        f.write(','.join(id_timeTaken)+'\\n')  # 写入 持续时间"
   ],
   "metadata": {
    "collapsed": false
   }
  },
  {
   "cell_type": "code",
   "execution_count": 96,
   "outputs": [
    {
     "data": {
      "text/plain": "                                                       0\n0                                                    798\n1      0,0,1,1,1,1,1,1,1,1,1,1,1,1,1,2,2,2,3,3,3,4,4,...\n2      1,1,1,1,1,0,1,1,1,0,1,1,1,1,1,1,1,1,1,1,1,1,1,...\n3      32,4,45,21,28,57,39,15,17,163,17,30,11,67,74,4...\n4                                                    413\n...                                                  ...\n16863  9,16,24,8,13,6,70,11,34,7,11,2,10,2,22,14,20,6...\n16864                                                  8\n16865                    123,123,123,123,123,123,123,123\n16866                                    0,1,1,1,1,0,1,0\n16867                           30,295,90,118,67,30,23,2\n\n[16868 rows x 1 columns]",
      "text/html": "<div>\n<style scoped>\n    .dataframe tbody tr th:only-of-type {\n        vertical-align: middle;\n    }\n\n    .dataframe tbody tr th {\n        vertical-align: top;\n    }\n\n    .dataframe thead th {\n        text-align: right;\n    }\n</style>\n<table border=\"1\" class=\"dataframe\">\n  <thead>\n    <tr style=\"text-align: right;\">\n      <th></th>\n      <th>0</th>\n    </tr>\n  </thead>\n  <tbody>\n    <tr>\n      <th>0</th>\n      <td>798</td>\n    </tr>\n    <tr>\n      <th>1</th>\n      <td>0,0,1,1,1,1,1,1,1,1,1,1,1,1,1,2,2,2,3,3,3,4,4,...</td>\n    </tr>\n    <tr>\n      <th>2</th>\n      <td>1,1,1,1,1,0,1,1,1,0,1,1,1,1,1,1,1,1,1,1,1,1,1,...</td>\n    </tr>\n    <tr>\n      <th>3</th>\n      <td>32,4,45,21,28,57,39,15,17,163,17,30,11,67,74,4...</td>\n    </tr>\n    <tr>\n      <th>4</th>\n      <td>413</td>\n    </tr>\n    <tr>\n      <th>...</th>\n      <td>...</td>\n    </tr>\n    <tr>\n      <th>16863</th>\n      <td>9,16,24,8,13,6,70,11,34,7,11,2,10,2,22,14,20,6...</td>\n    </tr>\n    <tr>\n      <th>16864</th>\n      <td>8</td>\n    </tr>\n    <tr>\n      <th>16865</th>\n      <td>123,123,123,123,123,123,123,123</td>\n    </tr>\n    <tr>\n      <th>16866</th>\n      <td>0,1,1,1,1,0,1,0</td>\n    </tr>\n    <tr>\n      <th>16867</th>\n      <td>30,295,90,118,67,30,23,2</td>\n    </tr>\n  </tbody>\n</table>\n<p>16868 rows × 1 columns</p>\n</div>"
     },
     "execution_count": 96,
     "metadata": {},
     "output_type": "execute_result"
    }
   ],
   "source": [
    "df_2009_feature = pd.read_table('features2009_data.csv',header=None)\n",
    "df_2009_feature"
   ],
   "metadata": {
    "collapsed": false
   }
  },
  {
   "cell_type": "markdown",
   "source": [
    "###### 2009 dataset split"
   ],
   "metadata": {
    "collapsed": false
   }
  },
  {
   "cell_type": "markdown",
   "source": [],
   "metadata": {
    "collapsed": false
   }
  },
  {
   "cell_type": "code",
   "execution_count": 97,
   "outputs": [
    {
     "data": {
      "text/plain": "                                                       0\n0                                                    798\n1      0,0,1,1,1,1,1,1,1,1,1,1,1,1,1,2,2,2,3,3,3,4,4,...\n2      1,1,1,1,1,0,1,1,1,0,1,1,1,1,1,1,1,1,1,1,1,1,1,...\n3      32,4,45,21,28,57,39,15,17,163,17,30,11,67,74,4...\n4                                                    413\n...                                                  ...\n16863  9,16,24,8,13,6,70,11,34,7,11,2,10,2,22,14,20,6...\n16864                                                  8\n16865                    123,123,123,123,123,123,123,123\n16866                                    0,1,1,1,1,0,1,0\n16867                           30,295,90,118,67,30,23,2\n\n[16868 rows x 1 columns]",
      "text/html": "<div>\n<style scoped>\n    .dataframe tbody tr th:only-of-type {\n        vertical-align: middle;\n    }\n\n    .dataframe tbody tr th {\n        vertical-align: top;\n    }\n\n    .dataframe thead th {\n        text-align: right;\n    }\n</style>\n<table border=\"1\" class=\"dataframe\">\n  <thead>\n    <tr style=\"text-align: right;\">\n      <th></th>\n      <th>0</th>\n    </tr>\n  </thead>\n  <tbody>\n    <tr>\n      <th>0</th>\n      <td>798</td>\n    </tr>\n    <tr>\n      <th>1</th>\n      <td>0,0,1,1,1,1,1,1,1,1,1,1,1,1,1,2,2,2,3,3,3,4,4,...</td>\n    </tr>\n    <tr>\n      <th>2</th>\n      <td>1,1,1,1,1,0,1,1,1,0,1,1,1,1,1,1,1,1,1,1,1,1,1,...</td>\n    </tr>\n    <tr>\n      <th>3</th>\n      <td>32,4,45,21,28,57,39,15,17,163,17,30,11,67,74,4...</td>\n    </tr>\n    <tr>\n      <th>4</th>\n      <td>413</td>\n    </tr>\n    <tr>\n      <th>...</th>\n      <td>...</td>\n    </tr>\n    <tr>\n      <th>16863</th>\n      <td>9,16,24,8,13,6,70,11,34,7,11,2,10,2,22,14,20,6...</td>\n    </tr>\n    <tr>\n      <th>16864</th>\n      <td>8</td>\n    </tr>\n    <tr>\n      <th>16865</th>\n      <td>123,123,123,123,123,123,123,123</td>\n    </tr>\n    <tr>\n      <th>16866</th>\n      <td>0,1,1,1,1,0,1,0</td>\n    </tr>\n    <tr>\n      <th>16867</th>\n      <td>30,295,90,118,67,30,23,2</td>\n    </tr>\n  </tbody>\n</table>\n<p>16868 rows × 1 columns</p>\n</div>"
     },
     "execution_count": 97,
     "metadata": {},
     "output_type": "execute_result"
    }
   ],
   "source": [
    "path = 'features_2009_data.csv'\n",
    "df_2009_split = pd.read_table(path,low_memory=False,header=None)\n",
    "df_2009_split"
   ],
   "metadata": {
    "collapsed": false
   }
  },
  {
   "cell_type": "code",
   "execution_count": 99,
   "outputs": [
    {
     "data": {
      "text/plain": "                                                       0\n0                                                    798\n1      0,0,1,1,1,1,1,1,1,1,1,1,1,1,1,2,2,2,3,3,3,4,4,...\n2      1,1,1,1,1,0,1,1,1,0,1,1,1,1,1,1,1,1,1,1,1,1,1,...\n3      32,4,45,21,28,57,39,15,17,163,17,30,11,67,74,4...\n4                                                    413\n...                                                  ...\n11795  15,17,21,14,132,24,27,5,3,15,34,30,134,39,15,9...\n11796                                                 37\n11797  37,37,37,45,55,55,55,55,55,68,68,68,68,70,70,7...\n11798  0,1,1,1,0,1,1,1,1,0,1,0,1,0,1,0,1,0,1,1,1,1,1,...\n11799  18,3,3,4,18,3,3,3,4,16,38,62,19,201,60,121,39,...\n\n[11800 rows x 1 columns]",
      "text/html": "<div>\n<style scoped>\n    .dataframe tbody tr th:only-of-type {\n        vertical-align: middle;\n    }\n\n    .dataframe tbody tr th {\n        vertical-align: top;\n    }\n\n    .dataframe thead th {\n        text-align: right;\n    }\n</style>\n<table border=\"1\" class=\"dataframe\">\n  <thead>\n    <tr style=\"text-align: right;\">\n      <th></th>\n      <th>0</th>\n    </tr>\n  </thead>\n  <tbody>\n    <tr>\n      <th>0</th>\n      <td>798</td>\n    </tr>\n    <tr>\n      <th>1</th>\n      <td>0,0,1,1,1,1,1,1,1,1,1,1,1,1,1,2,2,2,3,3,3,4,4,...</td>\n    </tr>\n    <tr>\n      <th>2</th>\n      <td>1,1,1,1,1,0,1,1,1,0,1,1,1,1,1,1,1,1,1,1,1,1,1,...</td>\n    </tr>\n    <tr>\n      <th>3</th>\n      <td>32,4,45,21,28,57,39,15,17,163,17,30,11,67,74,4...</td>\n    </tr>\n    <tr>\n      <th>4</th>\n      <td>413</td>\n    </tr>\n    <tr>\n      <th>...</th>\n      <td>...</td>\n    </tr>\n    <tr>\n      <th>11795</th>\n      <td>15,17,21,14,132,24,27,5,3,15,34,30,134,39,15,9...</td>\n    </tr>\n    <tr>\n      <th>11796</th>\n      <td>37</td>\n    </tr>\n    <tr>\n      <th>11797</th>\n      <td>37,37,37,45,55,55,55,55,55,68,68,68,68,70,70,7...</td>\n    </tr>\n    <tr>\n      <th>11798</th>\n      <td>0,1,1,1,0,1,1,1,1,0,1,0,1,0,1,0,1,0,1,1,1,1,1,...</td>\n    </tr>\n    <tr>\n      <th>11799</th>\n      <td>18,3,3,4,18,3,3,3,4,16,38,62,19,201,60,121,39,...</td>\n    </tr>\n  </tbody>\n</table>\n<p>11800 rows × 1 columns</p>\n</div>"
     },
     "execution_count": 99,
     "metadata": {},
     "output_type": "execute_result"
    }
   ],
   "source": [
    "df_2009_train = df_2009_split.iloc[0:13444,:]\n",
    "df_2009_train"
   ],
   "metadata": {
    "collapsed": false
   }
  },
  {
   "cell_type": "code",
   "execution_count": 100,
   "outputs": [],
   "source": [
    "df_2009_train.to_csv('assist_2009_train_time.csv',index=None,sep='|',quoting=csv.QUOTE_NONE,header=False)"
   ],
   "metadata": {
    "collapsed": false
   }
  },
  {
   "cell_type": "code",
   "execution_count": 101,
   "outputs": [
    {
     "data": {
      "text/plain": "                                                       0\n11800                                                 92\n11801  37,37,45,45,55,55,55,55,55,79,79,79,79,79,80,8...\n11802  1,1,1,1,1,1,1,1,1,0,1,0,1,0,0,0,0,1,0,1,0,0,1,...\n11803  10,3,9,10,10,9,3,3,10,41,117,66,22,42,4,60,9,6...\n11804                                                 36\n...                                                  ...\n16863  9,16,24,8,13,6,70,11,34,7,11,2,10,2,22,14,20,6...\n16864                                                  8\n16865                    123,123,123,123,123,123,123,123\n16866                                    0,1,1,1,1,0,1,0\n16867                           30,295,90,118,67,30,23,2\n\n[5068 rows x 1 columns]",
      "text/html": "<div>\n<style scoped>\n    .dataframe tbody tr th:only-of-type {\n        vertical-align: middle;\n    }\n\n    .dataframe tbody tr th {\n        vertical-align: top;\n    }\n\n    .dataframe thead th {\n        text-align: right;\n    }\n</style>\n<table border=\"1\" class=\"dataframe\">\n  <thead>\n    <tr style=\"text-align: right;\">\n      <th></th>\n      <th>0</th>\n    </tr>\n  </thead>\n  <tbody>\n    <tr>\n      <th>11800</th>\n      <td>92</td>\n    </tr>\n    <tr>\n      <th>11801</th>\n      <td>37,37,45,45,55,55,55,55,55,79,79,79,79,79,80,8...</td>\n    </tr>\n    <tr>\n      <th>11802</th>\n      <td>1,1,1,1,1,1,1,1,1,0,1,0,1,0,0,0,0,1,0,1,0,0,1,...</td>\n    </tr>\n    <tr>\n      <th>11803</th>\n      <td>10,3,9,10,10,9,3,3,10,41,117,66,22,42,4,60,9,6...</td>\n    </tr>\n    <tr>\n      <th>11804</th>\n      <td>36</td>\n    </tr>\n    <tr>\n      <th>...</th>\n      <td>...</td>\n    </tr>\n    <tr>\n      <th>16863</th>\n      <td>9,16,24,8,13,6,70,11,34,7,11,2,10,2,22,14,20,6...</td>\n    </tr>\n    <tr>\n      <th>16864</th>\n      <td>8</td>\n    </tr>\n    <tr>\n      <th>16865</th>\n      <td>123,123,123,123,123,123,123,123</td>\n    </tr>\n    <tr>\n      <th>16866</th>\n      <td>0,1,1,1,1,0,1,0</td>\n    </tr>\n    <tr>\n      <th>16867</th>\n      <td>30,295,90,118,67,30,23,2</td>\n    </tr>\n  </tbody>\n</table>\n<p>5068 rows × 1 columns</p>\n</div>"
     },
     "execution_count": 101,
     "metadata": {},
     "output_type": "execute_result"
    }
   ],
   "source": [
    "df_2009_test = df_2009_split.iloc[13444:,]\n",
    "df_2009_test"
   ],
   "metadata": {
    "collapsed": false
   }
  },
  {
   "cell_type": "code",
   "execution_count": 102,
   "outputs": [],
   "source": [
    "df_2009_test.to_csv('assist_2009_test_time.csv',index=None,sep='|',quoting=csv.QUOTE_NONE,header=False)"
   ],
   "metadata": {
    "collapsed": false
   }
  },
  {
   "cell_type": "markdown",
   "source": [
    "#### ASSISTments-2017 Raw dataset\n",
    "---"
   ],
   "metadata": {
    "collapsed": false
   }
  },
  {
   "cell_type": "code",
   "execution_count": 17,
   "outputs": [],
   "source": [
    "import csv\n",
    "import pandas as pd\n",
    "import numpy as np\n",
    "from matplotlib import pyplot as plt"
   ],
   "metadata": {
    "collapsed": false
   }
  },
  {
   "cell_type": "code",
   "execution_count": 55,
   "outputs": [
    {
     "name": "stderr",
     "output_type": "stream",
     "text": [
      "/var/folders/3w/8x00rrfn2973f28r3bz1j6gr0000gn/T/ipykernel_7155/3169100635.py:1: DtypeWarning: Columns (76,77) have mixed types. Specify dtype option on import or set low_memory=False.\n",
      "  df_2017 = pd.read_csv('anonymized_full_release_competition_dataset.csv')\n"
     ]
    },
    {
     "data": {
      "text/plain": "        studentId  MiddleSchoolId InferredGender SY ASSISTments Usage  \\\n0               8               2           Male            2004-2005   \n1               8               2           Male            2004-2005   \n2               8               2           Male            2004-2005   \n3               8               2           Male            2004-2005   \n4               8               2           Male            2004-2005   \n...           ...             ...            ...                  ...   \n942811       7783               1            NaN            2005-2006   \n942812       7783               1            NaN            2005-2006   \n942813       7783               1            NaN            2005-2006   \n942814       7783               1            NaN            2005-2006   \n942815       7783               1            NaN            2005-2006   \n\n         AveKnow  AveCarelessness  AveCorrect  NumActions  AveResBored  \\\n0       0.352416         0.183276    0.483902        1056     0.208389   \n1       0.352416         0.183276    0.483902        1056     0.208389   \n2       0.352416         0.183276    0.483902        1056     0.208389   \n3       0.352416         0.183276    0.483902        1056     0.208389   \n4       0.352416         0.183276    0.483902        1056     0.208389   \n...          ...              ...         ...         ...          ...   \n942811  0.210902         0.094888    0.456522         276     0.271812   \n942812  0.210902         0.094888    0.456522         276     0.271812   \n942813  0.210902         0.094888    0.456522         276     0.271812   \n942814  0.210902         0.094888    0.456522         276     0.271812   \n942815  0.210902         0.094888    0.456522         276     0.271812   \n\n        AveResEngcon  ...  RES_CONFUSED  RES_FRUSTRATED  RES_OFFTASK  \\\n0           0.679126  ...      0.000000        0.000000     0.785585   \n1           0.679126  ...      0.887452        0.000000     0.468252   \n2           0.679126  ...      0.887452        0.000000     0.468252   \n3           0.679126  ...      0.000000        0.000000     0.108417   \n4           0.679126  ...      0.000000        0.000000     0.108417   \n...              ...  ...           ...             ...          ...   \n942811      0.611678  ...      0.000000        0.000000     0.122595   \n942812      0.611678  ...      0.633474        0.000000     0.122595   \n942813      0.611678  ...      0.000000        0.000000     0.122595   \n942814      0.611678  ...      0.000000        0.000000     0.122595   \n942815      0.611678  ...      0.000000        0.009561     0.122595   \n\n        RES_GAMING      Ln-1        Ln  MCAS Enrolled  Selective  isSTEM  \n0         0.000264      0.13   0.06119    45        0          0     NaN  \n1         0.001483   0.06119   0.21351    45        0          0     NaN  \n2         0.001483     0.116  0.033306    45        0          0     NaN  \n3         0.010665     0.116  0.033306    45        0          0     NaN  \n4         0.010665  0.033306  0.118386    45        0          0     NaN  \n...            ...       ...       ...   ...      ...        ...     ...  \n942811    0.000092  0.054517  0.053783    28        1          0     NaN  \n942812    0.002815  0.053783  0.053673    28        1          0     NaN  \n942813    0.101184  0.053783  0.053673    28        1          0     NaN  \n942814    0.101184  0.053783  0.053673    28        1          0     NaN  \n942815    0.010665  0.780148  0.918159    28        1          0     NaN  \n\n[942816 rows x 82 columns]",
      "text/html": "<div>\n<style scoped>\n    .dataframe tbody tr th:only-of-type {\n        vertical-align: middle;\n    }\n\n    .dataframe tbody tr th {\n        vertical-align: top;\n    }\n\n    .dataframe thead th {\n        text-align: right;\n    }\n</style>\n<table border=\"1\" class=\"dataframe\">\n  <thead>\n    <tr style=\"text-align: right;\">\n      <th></th>\n      <th>studentId</th>\n      <th>MiddleSchoolId</th>\n      <th>InferredGender</th>\n      <th>SY ASSISTments Usage</th>\n      <th>AveKnow</th>\n      <th>AveCarelessness</th>\n      <th>AveCorrect</th>\n      <th>NumActions</th>\n      <th>AveResBored</th>\n      <th>AveResEngcon</th>\n      <th>...</th>\n      <th>RES_CONFUSED</th>\n      <th>RES_FRUSTRATED</th>\n      <th>RES_OFFTASK</th>\n      <th>RES_GAMING</th>\n      <th>Ln-1</th>\n      <th>Ln</th>\n      <th>MCAS</th>\n      <th>Enrolled</th>\n      <th>Selective</th>\n      <th>isSTEM</th>\n    </tr>\n  </thead>\n  <tbody>\n    <tr>\n      <th>0</th>\n      <td>8</td>\n      <td>2</td>\n      <td>Male</td>\n      <td>2004-2005</td>\n      <td>0.352416</td>\n      <td>0.183276</td>\n      <td>0.483902</td>\n      <td>1056</td>\n      <td>0.208389</td>\n      <td>0.679126</td>\n      <td>...</td>\n      <td>0.000000</td>\n      <td>0.000000</td>\n      <td>0.785585</td>\n      <td>0.000264</td>\n      <td>0.13</td>\n      <td>0.06119</td>\n      <td>45</td>\n      <td>0</td>\n      <td>0</td>\n      <td>NaN</td>\n    </tr>\n    <tr>\n      <th>1</th>\n      <td>8</td>\n      <td>2</td>\n      <td>Male</td>\n      <td>2004-2005</td>\n      <td>0.352416</td>\n      <td>0.183276</td>\n      <td>0.483902</td>\n      <td>1056</td>\n      <td>0.208389</td>\n      <td>0.679126</td>\n      <td>...</td>\n      <td>0.887452</td>\n      <td>0.000000</td>\n      <td>0.468252</td>\n      <td>0.001483</td>\n      <td>0.06119</td>\n      <td>0.21351</td>\n      <td>45</td>\n      <td>0</td>\n      <td>0</td>\n      <td>NaN</td>\n    </tr>\n    <tr>\n      <th>2</th>\n      <td>8</td>\n      <td>2</td>\n      <td>Male</td>\n      <td>2004-2005</td>\n      <td>0.352416</td>\n      <td>0.183276</td>\n      <td>0.483902</td>\n      <td>1056</td>\n      <td>0.208389</td>\n      <td>0.679126</td>\n      <td>...</td>\n      <td>0.887452</td>\n      <td>0.000000</td>\n      <td>0.468252</td>\n      <td>0.001483</td>\n      <td>0.116</td>\n      <td>0.033306</td>\n      <td>45</td>\n      <td>0</td>\n      <td>0</td>\n      <td>NaN</td>\n    </tr>\n    <tr>\n      <th>3</th>\n      <td>8</td>\n      <td>2</td>\n      <td>Male</td>\n      <td>2004-2005</td>\n      <td>0.352416</td>\n      <td>0.183276</td>\n      <td>0.483902</td>\n      <td>1056</td>\n      <td>0.208389</td>\n      <td>0.679126</td>\n      <td>...</td>\n      <td>0.000000</td>\n      <td>0.000000</td>\n      <td>0.108417</td>\n      <td>0.010665</td>\n      <td>0.116</td>\n      <td>0.033306</td>\n      <td>45</td>\n      <td>0</td>\n      <td>0</td>\n      <td>NaN</td>\n    </tr>\n    <tr>\n      <th>4</th>\n      <td>8</td>\n      <td>2</td>\n      <td>Male</td>\n      <td>2004-2005</td>\n      <td>0.352416</td>\n      <td>0.183276</td>\n      <td>0.483902</td>\n      <td>1056</td>\n      <td>0.208389</td>\n      <td>0.679126</td>\n      <td>...</td>\n      <td>0.000000</td>\n      <td>0.000000</td>\n      <td>0.108417</td>\n      <td>0.010665</td>\n      <td>0.033306</td>\n      <td>0.118386</td>\n      <td>45</td>\n      <td>0</td>\n      <td>0</td>\n      <td>NaN</td>\n    </tr>\n    <tr>\n      <th>...</th>\n      <td>...</td>\n      <td>...</td>\n      <td>...</td>\n      <td>...</td>\n      <td>...</td>\n      <td>...</td>\n      <td>...</td>\n      <td>...</td>\n      <td>...</td>\n      <td>...</td>\n      <td>...</td>\n      <td>...</td>\n      <td>...</td>\n      <td>...</td>\n      <td>...</td>\n      <td>...</td>\n      <td>...</td>\n      <td>...</td>\n      <td>...</td>\n      <td>...</td>\n      <td>...</td>\n    </tr>\n    <tr>\n      <th>942811</th>\n      <td>7783</td>\n      <td>1</td>\n      <td>NaN</td>\n      <td>2005-2006</td>\n      <td>0.210902</td>\n      <td>0.094888</td>\n      <td>0.456522</td>\n      <td>276</td>\n      <td>0.271812</td>\n      <td>0.611678</td>\n      <td>...</td>\n      <td>0.000000</td>\n      <td>0.000000</td>\n      <td>0.122595</td>\n      <td>0.000092</td>\n      <td>0.054517</td>\n      <td>0.053783</td>\n      <td>28</td>\n      <td>1</td>\n      <td>0</td>\n      <td>NaN</td>\n    </tr>\n    <tr>\n      <th>942812</th>\n      <td>7783</td>\n      <td>1</td>\n      <td>NaN</td>\n      <td>2005-2006</td>\n      <td>0.210902</td>\n      <td>0.094888</td>\n      <td>0.456522</td>\n      <td>276</td>\n      <td>0.271812</td>\n      <td>0.611678</td>\n      <td>...</td>\n      <td>0.633474</td>\n      <td>0.000000</td>\n      <td>0.122595</td>\n      <td>0.002815</td>\n      <td>0.053783</td>\n      <td>0.053673</td>\n      <td>28</td>\n      <td>1</td>\n      <td>0</td>\n      <td>NaN</td>\n    </tr>\n    <tr>\n      <th>942813</th>\n      <td>7783</td>\n      <td>1</td>\n      <td>NaN</td>\n      <td>2005-2006</td>\n      <td>0.210902</td>\n      <td>0.094888</td>\n      <td>0.456522</td>\n      <td>276</td>\n      <td>0.271812</td>\n      <td>0.611678</td>\n      <td>...</td>\n      <td>0.000000</td>\n      <td>0.000000</td>\n      <td>0.122595</td>\n      <td>0.101184</td>\n      <td>0.053783</td>\n      <td>0.053673</td>\n      <td>28</td>\n      <td>1</td>\n      <td>0</td>\n      <td>NaN</td>\n    </tr>\n    <tr>\n      <th>942814</th>\n      <td>7783</td>\n      <td>1</td>\n      <td>NaN</td>\n      <td>2005-2006</td>\n      <td>0.210902</td>\n      <td>0.094888</td>\n      <td>0.456522</td>\n      <td>276</td>\n      <td>0.271812</td>\n      <td>0.611678</td>\n      <td>...</td>\n      <td>0.000000</td>\n      <td>0.000000</td>\n      <td>0.122595</td>\n      <td>0.101184</td>\n      <td>0.053783</td>\n      <td>0.053673</td>\n      <td>28</td>\n      <td>1</td>\n      <td>0</td>\n      <td>NaN</td>\n    </tr>\n    <tr>\n      <th>942815</th>\n      <td>7783</td>\n      <td>1</td>\n      <td>NaN</td>\n      <td>2005-2006</td>\n      <td>0.210902</td>\n      <td>0.094888</td>\n      <td>0.456522</td>\n      <td>276</td>\n      <td>0.271812</td>\n      <td>0.611678</td>\n      <td>...</td>\n      <td>0.000000</td>\n      <td>0.009561</td>\n      <td>0.122595</td>\n      <td>0.010665</td>\n      <td>0.780148</td>\n      <td>0.918159</td>\n      <td>28</td>\n      <td>1</td>\n      <td>0</td>\n      <td>NaN</td>\n    </tr>\n  </tbody>\n</table>\n<p>942816 rows × 82 columns</p>\n</div>"
     },
     "execution_count": 55,
     "metadata": {},
     "output_type": "execute_result"
    }
   ],
   "source": [
    "df_2017 = pd.read_csv('anonymized_full_release_competition_dataset.csv')\n",
    "df_2017"
   ],
   "metadata": {
    "collapsed": false
   }
  },
  {
   "cell_type": "code",
   "execution_count": 45,
   "outputs": [
    {
     "data": {
      "text/plain": "        studentId  correct  AveResBored  AveResEngcon  AveResConf  \\\n0               8        0     0.208389      0.679126    0.115905   \n1               8        1     0.208389      0.679126    0.115905   \n2               8        0     0.208389      0.679126    0.115905   \n3               8        0     0.208389      0.679126    0.115905   \n4               8        1     0.208389      0.679126    0.115905   \n...           ...      ...          ...           ...         ...   \n942811       7783        1     0.271812      0.611678    0.123615   \n942812       7783        0     0.271812      0.611678    0.123615   \n942813       7783        0     0.271812      0.611678    0.123615   \n942814       7783        1     0.271812      0.611678    0.123615   \n942815       7783        1     0.271812      0.611678    0.123615   \n\n        AveResFrust  AveResOfftask  AveResGaming  \n0          0.112408       0.156503      0.196561  \n1          0.112408       0.156503      0.196561  \n2          0.112408       0.156503      0.196561  \n3          0.112408       0.156503      0.196561  \n4          0.112408       0.156503      0.196561  \n...             ...            ...           ...  \n942811     0.137851       0.287965      0.138583  \n942812     0.137851       0.287965      0.138583  \n942813     0.137851       0.287965      0.138583  \n942814     0.137851       0.287965      0.138583  \n942815     0.137851       0.287965      0.138583  \n\n[942816 rows x 8 columns]",
      "text/html": "<div>\n<style scoped>\n    .dataframe tbody tr th:only-of-type {\n        vertical-align: middle;\n    }\n\n    .dataframe tbody tr th {\n        vertical-align: top;\n    }\n\n    .dataframe thead th {\n        text-align: right;\n    }\n</style>\n<table border=\"1\" class=\"dataframe\">\n  <thead>\n    <tr style=\"text-align: right;\">\n      <th></th>\n      <th>studentId</th>\n      <th>correct</th>\n      <th>AveResBored</th>\n      <th>AveResEngcon</th>\n      <th>AveResConf</th>\n      <th>AveResFrust</th>\n      <th>AveResOfftask</th>\n      <th>AveResGaming</th>\n    </tr>\n  </thead>\n  <tbody>\n    <tr>\n      <th>0</th>\n      <td>8</td>\n      <td>0</td>\n      <td>0.208389</td>\n      <td>0.679126</td>\n      <td>0.115905</td>\n      <td>0.112408</td>\n      <td>0.156503</td>\n      <td>0.196561</td>\n    </tr>\n    <tr>\n      <th>1</th>\n      <td>8</td>\n      <td>1</td>\n      <td>0.208389</td>\n      <td>0.679126</td>\n      <td>0.115905</td>\n      <td>0.112408</td>\n      <td>0.156503</td>\n      <td>0.196561</td>\n    </tr>\n    <tr>\n      <th>2</th>\n      <td>8</td>\n      <td>0</td>\n      <td>0.208389</td>\n      <td>0.679126</td>\n      <td>0.115905</td>\n      <td>0.112408</td>\n      <td>0.156503</td>\n      <td>0.196561</td>\n    </tr>\n    <tr>\n      <th>3</th>\n      <td>8</td>\n      <td>0</td>\n      <td>0.208389</td>\n      <td>0.679126</td>\n      <td>0.115905</td>\n      <td>0.112408</td>\n      <td>0.156503</td>\n      <td>0.196561</td>\n    </tr>\n    <tr>\n      <th>4</th>\n      <td>8</td>\n      <td>1</td>\n      <td>0.208389</td>\n      <td>0.679126</td>\n      <td>0.115905</td>\n      <td>0.112408</td>\n      <td>0.156503</td>\n      <td>0.196561</td>\n    </tr>\n    <tr>\n      <th>...</th>\n      <td>...</td>\n      <td>...</td>\n      <td>...</td>\n      <td>...</td>\n      <td>...</td>\n      <td>...</td>\n      <td>...</td>\n      <td>...</td>\n    </tr>\n    <tr>\n      <th>942811</th>\n      <td>7783</td>\n      <td>1</td>\n      <td>0.271812</td>\n      <td>0.611678</td>\n      <td>0.123615</td>\n      <td>0.137851</td>\n      <td>0.287965</td>\n      <td>0.138583</td>\n    </tr>\n    <tr>\n      <th>942812</th>\n      <td>7783</td>\n      <td>0</td>\n      <td>0.271812</td>\n      <td>0.611678</td>\n      <td>0.123615</td>\n      <td>0.137851</td>\n      <td>0.287965</td>\n      <td>0.138583</td>\n    </tr>\n    <tr>\n      <th>942813</th>\n      <td>7783</td>\n      <td>0</td>\n      <td>0.271812</td>\n      <td>0.611678</td>\n      <td>0.123615</td>\n      <td>0.137851</td>\n      <td>0.287965</td>\n      <td>0.138583</td>\n    </tr>\n    <tr>\n      <th>942814</th>\n      <td>7783</td>\n      <td>1</td>\n      <td>0.271812</td>\n      <td>0.611678</td>\n      <td>0.123615</td>\n      <td>0.137851</td>\n      <td>0.287965</td>\n      <td>0.138583</td>\n    </tr>\n    <tr>\n      <th>942815</th>\n      <td>7783</td>\n      <td>1</td>\n      <td>0.271812</td>\n      <td>0.611678</td>\n      <td>0.123615</td>\n      <td>0.137851</td>\n      <td>0.287965</td>\n      <td>0.138583</td>\n    </tr>\n  </tbody>\n</table>\n<p>942816 rows × 8 columns</p>\n</div>"
     },
     "execution_count": 45,
     "metadata": {},
     "output_type": "execute_result"
    }
   ],
   "source": [
    "df_2017.loc[:,['studentId','correct','AveResBored','AveResEngcon','AveResConf','AveResFrust','AveResOfftask','AveResGaming']]"
   ],
   "metadata": {
    "collapsed": false
   }
  },
  {
   "cell_type": "code",
   "execution_count": 33,
   "outputs": [
    {
     "data": {
      "text/plain": "count    942816.000000\nmean          0.232949\nstd           0.030637\nmin           0.170871\n25%           0.209035\n50%           0.230394\n75%           0.252082\nmax           0.440870\nName: AveResBored, dtype: float64"
     },
     "execution_count": 33,
     "metadata": {},
     "output_type": "execute_result"
    }
   ],
   "source": [
    "df_2017['AveResBored'].describe()"
   ],
   "metadata": {
    "collapsed": false
   }
  },
  {
   "cell_type": "code",
   "execution_count": 46,
   "outputs": [],
   "source": [
    "df_2017['AveResBored'] = df_2017['AveResBored']*100\n",
    "df_2017['AveResEngcon'] = df_2017['AveResEngcon'] *100\n",
    "df_2017['AveResConf'] = df_2017['AveResConf'] *100\n",
    "df_2017['AveResFrust'] = df_2017['AveResFrust'] * 100\n",
    "df_2017['AveResOfftask'] = df_2017['AveResOfftask'] * 100\n",
    "df_2017['AveResGaming'] = df_2017['AveResGaming'] * 100"
   ],
   "metadata": {
    "collapsed": false
   }
  },
  {
   "cell_type": "code",
   "execution_count": 47,
   "outputs": [
    {
     "data": {
      "text/plain": "        studentId  correct  AveResBored  AveResEngcon  AveResConf  \\\n0               8        0    20.838904     67.912589   11.590539   \n1               8        1    20.838904     67.912589   11.590539   \n2               8        0    20.838904     67.912589   11.590539   \n3               8        0    20.838904     67.912589   11.590539   \n4               8        1    20.838904     67.912589   11.590539   \n...           ...      ...          ...           ...         ...   \n942811       7783        1    27.181150     61.167791   12.361459   \n942812       7783        0    27.181150     61.167791   12.361459   \n942813       7783        0    27.181150     61.167791   12.361459   \n942814       7783        1    27.181150     61.167791   12.361459   \n942815       7783        1    27.181150     61.167791   12.361459   \n\n        AveResFrust  AveResOfftask  AveResGaming  \n0         11.240808      15.650305     19.656100  \n1         11.240808      15.650305     19.656100  \n2         11.240808      15.650305     19.656100  \n3         11.240808      15.650305     19.656100  \n4         11.240808      15.650305     19.656100  \n...             ...            ...           ...  \n942811    13.785129      28.796540     13.858344  \n942812    13.785129      28.796540     13.858344  \n942813    13.785129      28.796540     13.858344  \n942814    13.785129      28.796540     13.858344  \n942815    13.785129      28.796540     13.858344  \n\n[942816 rows x 8 columns]",
      "text/html": "<div>\n<style scoped>\n    .dataframe tbody tr th:only-of-type {\n        vertical-align: middle;\n    }\n\n    .dataframe tbody tr th {\n        vertical-align: top;\n    }\n\n    .dataframe thead th {\n        text-align: right;\n    }\n</style>\n<table border=\"1\" class=\"dataframe\">\n  <thead>\n    <tr style=\"text-align: right;\">\n      <th></th>\n      <th>studentId</th>\n      <th>correct</th>\n      <th>AveResBored</th>\n      <th>AveResEngcon</th>\n      <th>AveResConf</th>\n      <th>AveResFrust</th>\n      <th>AveResOfftask</th>\n      <th>AveResGaming</th>\n    </tr>\n  </thead>\n  <tbody>\n    <tr>\n      <th>0</th>\n      <td>8</td>\n      <td>0</td>\n      <td>20.838904</td>\n      <td>67.912589</td>\n      <td>11.590539</td>\n      <td>11.240808</td>\n      <td>15.650305</td>\n      <td>19.656100</td>\n    </tr>\n    <tr>\n      <th>1</th>\n      <td>8</td>\n      <td>1</td>\n      <td>20.838904</td>\n      <td>67.912589</td>\n      <td>11.590539</td>\n      <td>11.240808</td>\n      <td>15.650305</td>\n      <td>19.656100</td>\n    </tr>\n    <tr>\n      <th>2</th>\n      <td>8</td>\n      <td>0</td>\n      <td>20.838904</td>\n      <td>67.912589</td>\n      <td>11.590539</td>\n      <td>11.240808</td>\n      <td>15.650305</td>\n      <td>19.656100</td>\n    </tr>\n    <tr>\n      <th>3</th>\n      <td>8</td>\n      <td>0</td>\n      <td>20.838904</td>\n      <td>67.912589</td>\n      <td>11.590539</td>\n      <td>11.240808</td>\n      <td>15.650305</td>\n      <td>19.656100</td>\n    </tr>\n    <tr>\n      <th>4</th>\n      <td>8</td>\n      <td>1</td>\n      <td>20.838904</td>\n      <td>67.912589</td>\n      <td>11.590539</td>\n      <td>11.240808</td>\n      <td>15.650305</td>\n      <td>19.656100</td>\n    </tr>\n    <tr>\n      <th>...</th>\n      <td>...</td>\n      <td>...</td>\n      <td>...</td>\n      <td>...</td>\n      <td>...</td>\n      <td>...</td>\n      <td>...</td>\n      <td>...</td>\n    </tr>\n    <tr>\n      <th>942811</th>\n      <td>7783</td>\n      <td>1</td>\n      <td>27.181150</td>\n      <td>61.167791</td>\n      <td>12.361459</td>\n      <td>13.785129</td>\n      <td>28.796540</td>\n      <td>13.858344</td>\n    </tr>\n    <tr>\n      <th>942812</th>\n      <td>7783</td>\n      <td>0</td>\n      <td>27.181150</td>\n      <td>61.167791</td>\n      <td>12.361459</td>\n      <td>13.785129</td>\n      <td>28.796540</td>\n      <td>13.858344</td>\n    </tr>\n    <tr>\n      <th>942813</th>\n      <td>7783</td>\n      <td>0</td>\n      <td>27.181150</td>\n      <td>61.167791</td>\n      <td>12.361459</td>\n      <td>13.785129</td>\n      <td>28.796540</td>\n      <td>13.858344</td>\n    </tr>\n    <tr>\n      <th>942814</th>\n      <td>7783</td>\n      <td>1</td>\n      <td>27.181150</td>\n      <td>61.167791</td>\n      <td>12.361459</td>\n      <td>13.785129</td>\n      <td>28.796540</td>\n      <td>13.858344</td>\n    </tr>\n    <tr>\n      <th>942815</th>\n      <td>7783</td>\n      <td>1</td>\n      <td>27.181150</td>\n      <td>61.167791</td>\n      <td>12.361459</td>\n      <td>13.785129</td>\n      <td>28.796540</td>\n      <td>13.858344</td>\n    </tr>\n  </tbody>\n</table>\n<p>942816 rows × 8 columns</p>\n</div>"
     },
     "execution_count": 47,
     "metadata": {},
     "output_type": "execute_result"
    }
   ],
   "source": [
    "df_2017.loc[:,['studentId','correct','AveResBored','AveResEngcon','AveResConf','AveResFrust','AveResOfftask','AveResGaming']]"
   ],
   "metadata": {
    "collapsed": false
   }
  },
  {
   "cell_type": "code",
   "execution_count": 50,
   "outputs": [
    {
     "data": {
      "text/plain": "count    942816.000000\nmean         65.844153\nstd           2.744015\nmin          40.330939\n25%          64.206017\n50%          66.066901\n75%          67.658808\nmax          72.399032\nName: AveResEngcon, dtype: float64"
     },
     "execution_count": 50,
     "metadata": {},
     "output_type": "execute_result"
    }
   ],
   "source": [
    "df_2017['AveResEngcon'].describe()"
   ],
   "metadata": {
    "collapsed": false
   }
  },
  {
   "cell_type": "code",
   "execution_count": null,
   "outputs": [],
   "source": [],
   "metadata": {
    "collapsed": false
   }
  },
  {
   "cell_type": "code",
   "execution_count": 6,
   "outputs": [
    {
     "data": {
      "text/plain": "0    1\nName: attemptCount, dtype: int64"
     },
     "execution_count": 6,
     "metadata": {},
     "output_type": "execute_result"
    }
   ],
   "source": [
    "df_2017['attemptCount'].mode()"
   ],
   "metadata": {
    "collapsed": false
   }
  },
  {
   "cell_type": "code",
   "execution_count": 7,
   "outputs": [
    {
     "data": {
      "text/plain": "<Figure size 432x288 with 1 Axes>",
      "image/png": "[encoded data removed]"
     },
     "metadata": {
      "needs_background": "light"
     },
     "output_type": "display_data"
    }
   ],
   "source": [
    "plt.boxplot(df_2017['attemptCount'])\n",
    "plt.show()"
   ],
   "metadata": {
    "collapsed": false
   }
  },
  {
   "cell_type": "code",
   "execution_count": 56,
   "outputs": [
    {
     "data": {
      "text/plain": "0         1\n1         0\n2         0\n3         0\n4         1\n         ..\n942811    3\n942812    0\n942813    0\n942814    0\n942815    0\nName: hintTotal, Length: 942816, dtype: int64"
     },
     "execution_count": 56,
     "metadata": {},
     "output_type": "execute_result"
    }
   ],
   "source": [
    "df_2017['hintTotal']"
   ],
   "metadata": {
    "collapsed": false
   }
  },
  {
   "cell_type": "code",
   "execution_count": 8,
   "outputs": [
    {
     "data": {
      "text/plain": "count    942816.000000\nmean          1.953967\nstd           2.929242\nmin           0.000000\n25%           0.000000\n50%           1.000000\n75%           3.000000\nmax          56.000000\nName: hintTotal, dtype: float64"
     },
     "execution_count": 8,
     "metadata": {},
     "output_type": "execute_result"
    }
   ],
   "source": [
    "df_2017['hintTotal'].describe()"
   ],
   "metadata": {
    "collapsed": false
   }
  },
  {
   "cell_type": "code",
   "execution_count": 9,
   "outputs": [
    {
     "data": {
      "text/plain": "count    942816.000000\nmean          0.331025\nstd           0.470582\nmin           0.000000\n25%           0.000000\n50%           0.000000\n75%           1.000000\nmax           1.000000\nName: hint, dtype: float64"
     },
     "execution_count": 9,
     "metadata": {},
     "output_type": "execute_result"
    }
   ],
   "source": [
    "df_2017['hint'].describe()"
   ],
   "metadata": {
    "collapsed": false
   }
  },
  {
   "cell_type": "code",
   "execution_count": 9,
   "outputs": [],
   "source": [],
   "metadata": {
    "collapsed": false
   }
  },
  {
   "cell_type": "code",
   "execution_count": 10,
   "outputs": [
    {
     "data": {
      "text/plain": "count    942816.000000\nmean         29.747869\nstd          72.019768\nmin           0.000000\n25%           5.000000\n50%          11.000000\n75%          30.000000\nmax        9999.000000\nName: timeTaken, dtype: float64"
     },
     "execution_count": 10,
     "metadata": {},
     "output_type": "execute_result"
    }
   ],
   "source": [
    "df_2017['timeTaken'].describe()"
   ],
   "metadata": {
    "collapsed": false
   }
  },
  {
   "cell_type": "code",
   "execution_count": 11,
   "outputs": [],
   "source": [
    "df_2017 = df_2017.drop(df_2017[df_2017['timeTaken'] < 1].index)\n",
    "df_2017 = df_2017.drop(df_2017[df_2017['timeTaken'] > 4000].index)"
   ],
   "metadata": {
    "collapsed": false
   }
  },
  {
   "cell_type": "code",
   "execution_count": 12,
   "outputs": [
    {
     "data": {
      "text/plain": "count    918106.000000\nmean         30.429460\nstd          65.796218\nmin           1.000000\n25%           5.000000\n50%          12.000000\n75%          31.000000\nmax        3925.000000\nName: timeTaken, dtype: float64"
     },
     "execution_count": 12,
     "metadata": {},
     "output_type": "execute_result"
    }
   ],
   "source": [
    "df_2017['timeTaken'].describe()"
   ],
   "metadata": {
    "collapsed": false
   }
  },
  {
   "cell_type": "code",
   "execution_count": 13,
   "outputs": [
    {
     "data": {
      "text/plain": "        studentId  MiddleSchoolId InferredGender SY ASSISTments Usage  \\\n0               8               2           Male            2004-2005   \n1               8               2           Male            2004-2005   \n2               8               2           Male            2004-2005   \n3               8               2           Male            2004-2005   \n4               8               2           Male            2004-2005   \n...           ...             ...            ...                  ...   \n942811       7783               1            NaN            2005-2006   \n942812       7783               1            NaN            2005-2006   \n942813       7783               1            NaN            2005-2006   \n942814       7783               1            NaN            2005-2006   \n942815       7783               1            NaN            2005-2006   \n\n         AveKnow  AveCarelessness  AveCorrect  NumActions  AveResBored  \\\n0       0.352416         0.183276    0.483902        1056     0.208389   \n1       0.352416         0.183276    0.483902        1056     0.208389   \n2       0.352416         0.183276    0.483902        1056     0.208389   \n3       0.352416         0.183276    0.483902        1056     0.208389   \n4       0.352416         0.183276    0.483902        1056     0.208389   \n...          ...              ...         ...         ...          ...   \n942811  0.210902         0.094888    0.456522         276     0.271812   \n942812  0.210902         0.094888    0.456522         276     0.271812   \n942813  0.210902         0.094888    0.456522         276     0.271812   \n942814  0.210902         0.094888    0.456522         276     0.271812   \n942815  0.210902         0.094888    0.456522         276     0.271812   \n\n        AveResEngcon  ...  RES_CONFUSED  RES_FRUSTRATED  RES_OFFTASK  \\\n0           0.679126  ...      0.000000        0.000000     0.785585   \n1           0.679126  ...      0.887452        0.000000     0.468252   \n2           0.679126  ...      0.887452        0.000000     0.468252   \n3           0.679126  ...      0.000000        0.000000     0.108417   \n4           0.679126  ...      0.000000        0.000000     0.108417   \n...              ...  ...           ...             ...          ...   \n942811      0.611678  ...      0.000000        0.000000     0.122595   \n942812      0.611678  ...      0.633474        0.000000     0.122595   \n942813      0.611678  ...      0.000000        0.000000     0.122595   \n942814      0.611678  ...      0.000000        0.000000     0.122595   \n942815      0.611678  ...      0.000000        0.009561     0.122595   \n\n        RES_GAMING      Ln-1        Ln  MCAS Enrolled  Selective  isSTEM  \n0         0.000264      0.13   0.06119    45        0          0     NaN  \n1         0.001483   0.06119   0.21351    45        0          0     NaN  \n2         0.001483     0.116  0.033306    45        0          0     NaN  \n3         0.010665     0.116  0.033306    45        0          0     NaN  \n4         0.010665  0.033306  0.118386    45        0          0     NaN  \n...            ...       ...       ...   ...      ...        ...     ...  \n942811    0.000092  0.054517  0.053783    28        1          0     NaN  \n942812    0.002815  0.053783  0.053673    28        1          0     NaN  \n942813    0.101184  0.053783  0.053673    28        1          0     NaN  \n942814    0.101184  0.053783  0.053673    28        1          0     NaN  \n942815    0.010665  0.780148  0.918159    28        1          0     NaN  \n\n[918106 rows x 82 columns]",
      "text/html": "<div>\n<style scoped>\n    .dataframe tbody tr th:only-of-type {\n        vertical-align: middle;\n    }\n\n    .dataframe tbody tr th {\n        vertical-align: top;\n    }\n\n    .dataframe thead th {\n        text-align: right;\n    }\n</style>\n<table border=\"1\" class=\"dataframe\">\n  <thead>\n    <tr style=\"text-align: right;\">\n      <th></th>\n      <th>studentId</th>\n      <th>MiddleSchoolId</th>\n      <th>InferredGender</th>\n      <th>SY ASSISTments Usage</th>\n      <th>AveKnow</th>\n      <th>AveCarelessness</th>\n      <th>AveCorrect</th>\n      <th>NumActions</th>\n      <th>AveResBored</th>\n      <th>AveResEngcon</th>\n      <th>...</th>\n      <th>RES_CONFUSED</th>\n      <th>RES_FRUSTRATED</th>\n      <th>RES_OFFTASK</th>\n      <th>RES_GAMING</th>\n      <th>Ln-1</th>\n      <th>Ln</th>\n      <th>MCAS</th>\n      <th>Enrolled</th>\n      <th>Selective</th>\n      <th>isSTEM</th>\n    </tr>\n  </thead>\n  <tbody>\n    <tr>\n      <th>0</th>\n      <td>8</td>\n      <td>2</td>\n      <td>Male</td>\n      <td>2004-2005</td>\n      <td>0.352416</td>\n      <td>0.183276</td>\n      <td>0.483902</td>\n      <td>1056</td>\n      <td>0.208389</td>\n      <td>0.679126</td>\n      <td>...</td>\n      <td>0.000000</td>\n      <td>0.000000</td>\n      <td>0.785585</td>\n      <td>0.000264</td>\n      <td>0.13</td>\n      <td>0.06119</td>\n      <td>45</td>\n      <td>0</td>\n      <td>0</td>\n      <td>NaN</td>\n    </tr>\n    <tr>\n      <th>1</th>\n      <td>8</td>\n      <td>2</td>\n      <td>Male</td>\n      <td>2004-2005</td>\n      <td>0.352416</td>\n      <td>0.183276</td>\n      <td>0.483902</td>\n      <td>1056</td>\n      <td>0.208389</td>\n      <td>0.679126</td>\n      <td>...</td>\n      <td>0.887452</td>\n      <td>0.000000</td>\n      <td>0.468252</td>\n      <td>0.001483</td>\n      <td>0.06119</td>\n      <td>0.21351</td>\n      <td>45</td>\n      <td>0</td>\n      <td>0</td>\n      <td>NaN</td>\n    </tr>\n    <tr>\n      <th>2</th>\n      <td>8</td>\n      <td>2</td>\n      <td>Male</td>\n      <td>2004-2005</td>\n      <td>0.352416</td>\n      <td>0.183276</td>\n      <td>0.483902</td>\n      <td>1056</td>\n      <td>0.208389</td>\n      <td>0.679126</td>\n      <td>...</td>\n      <td>0.887452</td>\n      <td>0.000000</td>\n      <td>0.468252</td>\n      <td>0.001483</td>\n      <td>0.116</td>\n      <td>0.033306</td>\n      <td>45</td>\n      <td>0</td>\n      <td>0</td>\n      <td>NaN</td>\n    </tr>\n    <tr>\n      <th>3</th>\n      <td>8</td>\n      <td>2</td>\n      <td>Male</td>\n      <td>2004-2005</td>\n      <td>0.352416</td>\n      <td>0.183276</td>\n      <td>0.483902</td>\n      <td>1056</td>\n      <td>0.208389</td>\n      <td>0.679126</td>\n      <td>...</td>\n      <td>0.000000</td>\n      <td>0.000000</td>\n      <td>0.108417</td>\n      <td>0.010665</td>\n      <td>0.116</td>\n      <td>0.033306</td>\n      <td>45</td>\n      <td>0</td>\n      <td>0</td>\n      <td>NaN</td>\n    </tr>\n    <tr>\n      <th>4</th>\n      <td>8</td>\n      <td>2</td>\n      <td>Male</td>\n      <td>2004-2005</td>\n      <td>0.352416</td>\n      <td>0.183276</td>\n      <td>0.483902</td>\n      <td>1056</td>\n      <td>0.208389</td>\n      <td>0.679126</td>\n      <td>...</td>\n      <td>0.000000</td>\n      <td>0.000000</td>\n      <td>0.108417</td>\n      <td>0.010665</td>\n      <td>0.033306</td>\n      <td>0.118386</td>\n      <td>45</td>\n      <td>0</td>\n      <td>0</td>\n      <td>NaN</td>\n    </tr>\n    <tr>\n      <th>...</th>\n      <td>...</td>\n      <td>...</td>\n      <td>...</td>\n      <td>...</td>\n      <td>...</td>\n      <td>...</td>\n      <td>...</td>\n      <td>...</td>\n      <td>...</td>\n      <td>...</td>\n      <td>...</td>\n      <td>...</td>\n      <td>...</td>\n      <td>...</td>\n      <td>...</td>\n      <td>...</td>\n      <td>...</td>\n      <td>...</td>\n      <td>...</td>\n      <td>...</td>\n      <td>...</td>\n    </tr>\n    <tr>\n      <th>942811</th>\n      <td>7783</td>\n      <td>1</td>\n      <td>NaN</td>\n      <td>2005-2006</td>\n      <td>0.210902</td>\n      <td>0.094888</td>\n      <td>0.456522</td>\n      <td>276</td>\n      <td>0.271812</td>\n      <td>0.611678</td>\n      <td>...</td>\n      <td>0.000000</td>\n      <td>0.000000</td>\n      <td>0.122595</td>\n      <td>0.000092</td>\n      <td>0.054517</td>\n      <td>0.053783</td>\n      <td>28</td>\n      <td>1</td>\n      <td>0</td>\n      <td>NaN</td>\n    </tr>\n    <tr>\n      <th>942812</th>\n      <td>7783</td>\n      <td>1</td>\n      <td>NaN</td>\n      <td>2005-2006</td>\n      <td>0.210902</td>\n      <td>0.094888</td>\n      <td>0.456522</td>\n      <td>276</td>\n      <td>0.271812</td>\n      <td>0.611678</td>\n      <td>...</td>\n      <td>0.633474</td>\n      <td>0.000000</td>\n      <td>0.122595</td>\n      <td>0.002815</td>\n      <td>0.053783</td>\n      <td>0.053673</td>\n      <td>28</td>\n      <td>1</td>\n      <td>0</td>\n      <td>NaN</td>\n    </tr>\n    <tr>\n      <th>942813</th>\n      <td>7783</td>\n      <td>1</td>\n      <td>NaN</td>\n      <td>2005-2006</td>\n      <td>0.210902</td>\n      <td>0.094888</td>\n      <td>0.456522</td>\n      <td>276</td>\n      <td>0.271812</td>\n      <td>0.611678</td>\n      <td>...</td>\n      <td>0.000000</td>\n      <td>0.000000</td>\n      <td>0.122595</td>\n      <td>0.101184</td>\n      <td>0.053783</td>\n      <td>0.053673</td>\n      <td>28</td>\n      <td>1</td>\n      <td>0</td>\n      <td>NaN</td>\n    </tr>\n    <tr>\n      <th>942814</th>\n      <td>7783</td>\n      <td>1</td>\n      <td>NaN</td>\n      <td>2005-2006</td>\n      <td>0.210902</td>\n      <td>0.094888</td>\n      <td>0.456522</td>\n      <td>276</td>\n      <td>0.271812</td>\n      <td>0.611678</td>\n      <td>...</td>\n      <td>0.000000</td>\n      <td>0.000000</td>\n      <td>0.122595</td>\n      <td>0.101184</td>\n      <td>0.053783</td>\n      <td>0.053673</td>\n      <td>28</td>\n      <td>1</td>\n      <td>0</td>\n      <td>NaN</td>\n    </tr>\n    <tr>\n      <th>942815</th>\n      <td>7783</td>\n      <td>1</td>\n      <td>NaN</td>\n      <td>2005-2006</td>\n      <td>0.210902</td>\n      <td>0.094888</td>\n      <td>0.456522</td>\n      <td>276</td>\n      <td>0.271812</td>\n      <td>0.611678</td>\n      <td>...</td>\n      <td>0.000000</td>\n      <td>0.009561</td>\n      <td>0.122595</td>\n      <td>0.010665</td>\n      <td>0.780148</td>\n      <td>0.918159</td>\n      <td>28</td>\n      <td>1</td>\n      <td>0</td>\n      <td>NaN</td>\n    </tr>\n  </tbody>\n</table>\n<p>918106 rows × 82 columns</p>\n</div>"
     },
     "execution_count": 13,
     "metadata": {},
     "output_type": "execute_result"
    }
   ],
   "source": [
    "df_2017"
   ],
   "metadata": {
    "collapsed": false
   }
  },
  {
   "cell_type": "code",
   "execution_count": 14,
   "outputs": [
    {
     "data": {
      "text/plain": "[8,\n 35,\n 39,\n 64,\n 77,\n 126,\n 134,\n 156,\n 160,\n 164,\n 205,\n 215,\n 243,\n 255,\n 261,\n 283,\n 285,\n 291,\n 299,\n 337,\n 344,\n 349,\n 360,\n 372,\n 383,\n 391,\n 401,\n 404,\n 410,\n 418,\n 447,\n 473,\n 474,\n 475,\n 476,\n 492,\n 496,\n 512,\n 530,\n 532,\n 542,\n 546,\n 566,\n 568,\n 603,\n 609,\n 616,\n 621,\n 631,\n 633,\n 636,\n 654,\n 663,\n 667,\n 672,\n 676,\n 683,\n 684,\n 696,\n 709,\n 743,\n 752,\n 781,\n 782,\n 789,\n 808,\n 809,\n 810,\n 824,\n 826,\n 828,\n 832,\n 834,\n 837,\n 842,\n 843,\n 848,\n 868,\n 898,\n 937,\n 954,\n 968,\n 969,\n 998,\n 1007,\n 1016,\n 1020,\n 1044,\n 1046,\n 1047,\n 1055,\n 1079,\n 1107,\n 1108,\n 1110,\n 1178,\n 1202,\n 1208,\n 1232,\n 1237,\n 1238,\n 1240,\n 1250,\n 1287,\n 1294,\n 1305,\n 1313,\n 1317,\n 1337,\n 1338,\n 1348,\n 1362,\n 1375,\n 1380,\n 1394,\n 1404,\n 1408,\n 1417,\n 1437,\n 1438,\n 1439,\n 1450,\n 1462,\n 1483,\n 1527,\n 1548,\n 1553,\n 1567,\n 1572,\n 1574,\n 1576,\n 1583,\n 1586,\n 1599,\n 1607,\n 1649,\n 1657,\n 1660,\n 1667,\n 1668,\n 1726,\n 1735,\n 1751,\n 1764,\n 1776,\n 1779,\n 1800,\n 1813,\n 1821,\n 1825,\n 1849,\n 1857,\n 1858,\n 1905,\n 1922,\n 1925,\n 1941,\n 1960,\n 1961,\n 1972,\n 1977,\n 1980,\n 1989,\n 2003,\n 2010,\n 2019,\n 2026,\n 2041,\n 2070,\n 2071,\n 2075,\n 2087,\n 2092,\n 2106,\n 2131,\n 2132,\n 2146,\n 2148,\n 2157,\n 2163,\n 2165,\n 2174,\n 2175,\n 2192,\n 2207,\n 2210,\n 2229,\n 2230,\n 2231,\n 2245,\n 2252,\n 2253,\n 2258,\n 2259,\n 2263,\n 2265,\n 2271,\n 2273,\n 2278,\n 2279,\n 2286,\n 2288,\n 2291,\n 2297,\n 2309,\n 2315,\n 2339,\n 2396,\n 2403,\n 2420,\n 2421,\n 2425,\n 2435,\n 2440,\n 2451,\n 2460,\n 2481,\n 2487,\n 2489,\n 2490,\n 2491,\n 2498,\n 2502,\n 2570,\n 2572,\n 2575,\n 2581,\n 2603,\n 2604,\n 2631,\n 9,\n 11,\n 25,\n 27,\n 33,\n 37,\n 41,\n 43,\n 65,\n 83,\n 86,\n 87,\n 94,\n 101,\n 114,\n 118,\n 124,\n 125,\n 129,\n 131,\n 132,\n 154,\n 161,\n 176,\n 185,\n 190,\n 203,\n 213,\n 224,\n 229,\n 237,\n 240,\n 251,\n 252,\n 263,\n 268,\n 269,\n 278,\n 281,\n 282,\n 292,\n 295,\n 303,\n 312,\n 314,\n 321,\n 334,\n 336,\n 341,\n 351,\n 355,\n 363,\n 364,\n 376,\n 378,\n 386,\n 387,\n 390,\n 403,\n 412,\n 413,\n 415,\n 417,\n 421,\n 427,\n 430,\n 432,\n 457,\n 459,\n 462,\n 491,\n 493,\n 494,\n 495,\n 498,\n 499,\n 501,\n 502,\n 504,\n 505,\n 511,\n 514,\n 516,\n 520,\n 522,\n 523,\n 538,\n 570,\n 581,\n 584,\n 585,\n 589,\n 592,\n 594,\n 597,\n 598,\n 607,\n 617,\n 625,\n 638,\n 640,\n 644,\n 710,\n 1117,\n 2636,\n 2642,\n 2643,\n 2653,\n 2655,\n 2661,\n 2662,\n 2663,\n 2678,\n 2688,\n 2714,\n 2719,\n 2725,\n 2737,\n 2738,\n 2740,\n 2743,\n 2775,\n 2786,\n 2787,\n 2801,\n 2816,\n 2819,\n 2831,\n 2842,\n 2859,\n 2876,\n 2882,\n 2895,\n 2902,\n 2922,\n 2924,\n 2932,\n 2942,\n 2955,\n 2961,\n 2968,\n 2972,\n 2976,\n 2994,\n 2997,\n 2999,\n 3002,\n 3003,\n 3026,\n 3027,\n 3061,\n 3069,\n 3097,\n 3128,\n 3135,\n 3142,\n 3175,\n 3207,\n 3208,\n 3215,\n 3233,\n 3235,\n 3242,\n 3245,\n 3252,\n 3266,\n 3274,\n 3277,\n 3296,\n 3312,\n 3320,\n 3321,\n 3327,\n 3345,\n 3348,\n 3352,\n 3371,\n 3377,\n 3381,\n 3390,\n 3405,\n 3408,\n 3413,\n 3417,\n 3434,\n 3455,\n 3456,\n 3467,\n 3476,\n 3483,\n 3485,\n 3487,\n 3499,\n 3506,\n 3514,\n 3521,\n 3530,\n 3545,\n 3573,\n 3601,\n 3614,\n 3618,\n 3620,\n 3622,\n 3640,\n 3645,\n 3687,\n 3690,\n 3694,\n 3731,\n 3738,\n 3744,\n 3751,\n 3761,\n 3763,\n 3766,\n 3771,\n 3772,\n 3778,\n 3815,\n 3829,\n 3848,\n 3867,\n 3870,\n 3890,\n 3910,\n 3929,\n 3932,\n 3937,\n 3939,\n 3961,\n 3982,\n 3992,\n 4004,\n 4006,\n 4013,\n 4019,\n 4040,\n 4061,\n 4072,\n 4076,\n 4079,\n 4088,\n 4089,\n 4096,\n 4132,\n 4137,\n 4159,\n 4162,\n 4164,\n 4168,\n 4179,\n 4207,\n 4209,\n 4220,\n 4241,\n 4253,\n 4262,\n 4267,\n 4286,\n 4294,\n 4342,\n 4369,\n 4379,\n 4381,\n 4388,\n 4389,\n 4393,\n 4412,\n 4425,\n 4440,\n 4446,\n 4453,\n 4483,\n 4511,\n 4516,\n 4519,\n 4520,\n 4524,\n 4542,\n 4546,\n 4547,\n 4551,\n 4553,\n 4557,\n 4562,\n 4574,\n 4576,\n 4582,\n 4588,\n 4594,\n 4595,\n 4605,\n 4607,\n 4625,\n 4637,\n 4642,\n 4650,\n 4653,\n 4654,\n 4658,\n 4662,\n 4691,\n 4693,\n 4703,\n 4722,\n 4730,\n 4760,\n 4761,\n 4767,\n 4786,\n 4820,\n 4837,\n 4839,\n 4842,\n 4846,\n 4859,\n 4863,\n 4865,\n 4873,\n 4879,\n 4881,\n 4884,\n 4896,\n 4946,\n 4956,\n 4958,\n 4966,\n 4972,\n 4981,\n 5013,\n 5027,\n 5030,\n 5032,\n 5036,\n 5082,\n 5096,\n 5116,\n 5122,\n 5130,\n 5163,\n 5166,\n 5176,\n 5179,\n 5202,\n 5205,\n 5208,\n 5209,\n 5213,\n 5245,\n 5347,\n 5354,\n 5407,\n 5409,\n 5419,\n 5422,\n 5429,\n 5433,\n 5442,\n 5444,\n 5453,\n 5459,\n 5460,\n 5468,\n 5469,\n 5471,\n 5482,\n 5527,\n 5529,\n 5535,\n 5567,\n 5574,\n 5583,\n 5593,\n 5599,\n 5628,\n 5638,\n 5656,\n 5657,\n 5660,\n 5663,\n 5673,\n 5683,\n 5687,\n 5711,\n 5744,\n 5752,\n 5753,\n 5760,\n 5767,\n 5774,\n 5778,\n 5781,\n 5785,\n 5810,\n 5853,\n 5859,\n 5863,\n 5870,\n 5894,\n 5899,\n 5919,\n 5922,\n 5942,\n 5950,\n 5976,\n 5984,\n 6001,\n 6006,\n 6012,\n 6036,\n 6038,\n 6048,\n 6057,\n 6069,\n 6084,\n 6105,\n 6108,\n 6110,\n 6135,\n 6154,\n 6191,\n 6205,\n 6212,\n 6217,\n 6218,\n 6222,\n 6225,\n 6226,\n 6230,\n 6235,\n 6250,\n 6252,\n 6259,\n 6267,\n 6279,\n 6287,\n 6295,\n 6297,\n 6306,\n 6307,\n 6308,\n 6312,\n 6315,\n 6322,\n 6325,\n 6326,\n 6327,\n 6346,\n 6369,\n 6375,\n 6388,\n 6400,\n 6410,\n 6453,\n 6480,\n 6507,\n 6511,\n 6514,\n 6517,\n 6535,\n 6577,\n 6578,\n 6584,\n 6609,\n 6626,\n 6627,\n 6640,\n 6647,\n 6667,\n 6694,\n 6695,\n 6722,\n 6731,\n 6754,\n 6756,\n 6764,\n 6776,\n 6778,\n 6782,\n 6785,\n 6792,\n 6797,\n 6805,\n 6815,\n 6828,\n 6857,\n 6862,\n 6863,\n 6866,\n 6876,\n 6879,\n 6914,\n 6918,\n 6935,\n 6938,\n 6941,\n 6948,\n 6962,\n 6964,\n 6984,\n 7003,\n 7012,\n 7015,\n 7064,\n 7073,\n 7074,\n 7090,\n 7093,\n 7110,\n 7170,\n 7181,\n 7189,\n 7214,\n 7219,\n 7228,\n 7249,\n 7253,\n 7258,\n 7270,\n 7275,\n 7292,\n 7294,\n 7295,\n 7296,\n 7322,\n 7329,\n 7337,\n 7365,\n 7369,\n 7398,\n 7417,\n 7432,\n 7443,\n 7449,\n 7457,\n 7484,\n 7495,\n 7508,\n 7511,\n 7517,\n 7531,\n 7532,\n 7537,\n 7571,\n 7598,\n 7620,\n 7629,\n 7635,\n 7646,\n 7655,\n 7666,\n 7676,\n 7680,\n 7681,\n 7713,\n 7717,\n 7736,\n 7744,\n 7750,\n 7753,\n 7756,\n 7782,\n 3267,\n 3432,\n 3634,\n 3828,\n 4848,\n 6023,\n 645,\n 661,\n 662,\n 668,\n 688,\n 690,\n 726,\n 738,\n 739,\n 744,\n 747,\n 756,\n 763,\n 771,\n 776,\n 1295,\n 1301,\n 1309,\n 1320,\n 1345,\n 1350,\n 1364,\n 1371,\n 1372,\n 1374,\n 1414,\n 1456,\n 1459,\n 1460,\n 1469,\n 1470,\n 1481,\n 1494,\n 1518,\n 1534,\n 1538,\n 1539,\n 1551,\n 1557,\n 1565,\n 1568,\n 1570,\n 1575,\n 1590,\n 1598,\n 1621,\n 1622,\n 1627,\n 1631,\n 1635,\n 1648,\n 1658,\n 1670,\n 1672,\n 1684,\n 1701,\n 1704,\n 1707,\n 1708,\n 1720,\n 1723,\n 1750,\n 1752,\n 1755,\n 1762,\n 1765,\n 1771,\n 1781,\n 1788,\n 1818,\n 1823,\n 1824,\n 1826,\n 1850,\n 1851,\n 1855,\n 1866,\n 1867,\n 1868,\n 1877,\n 1879,\n 1881,\n 1884,\n 1892,\n 1896,\n 1906,\n 1911,\n 1912,\n 1913,\n 1915,\n 1919,\n 1923,\n 1951,\n 1952,\n 1962,\n 1963,\n 1965,\n 1981,\n 1983,\n 1992,\n 1993,\n 2020,\n 2021,\n 2033,\n 2035,\n 2042,\n 2044,\n 2048,\n 2053,\n 2058,\n 2082,\n 2095,\n 2115,\n 2118,\n 2125,\n 2136,\n 2140,\n 2147,\n 2151,\n 2156,\n 2161,\n 2178,\n 2180,\n 2182,\n 2197,\n 2213,\n 2216,\n 2220,\n 2222,\n 2225,\n 2233,\n 2238,\n 2242,\n 2269,\n 2284,\n 2293,\n 2302,\n 2311,\n 2312,\n 2319,\n 2323,\n 2325,\n 2334,\n 2340,\n 2343,\n 2344,\n 2352,\n 2354,\n 2370,\n 2372,\n 2392,\n 2393,\n 2402,\n 2415,\n 2416,\n 2431,\n 2433,\n 2453,\n 2469,\n 2471,\n 2492,\n 2493,\n 2494,\n 2495,\n 2497,\n 2501,\n 2509,\n 2513,\n 2518,\n 2519,\n 2533,\n 2535,\n 2537,\n 2538,\n 2555,\n 2567,\n 2569,\n 798,\n 799,\n 802,\n 803,\n 811,\n 819,\n 838,\n 847,\n 852,\n 869,\n 873,\n 876,\n 887,\n 892,\n 894,\n 900,\n 901,\n 903,\n 909,\n 2582,\n 2586,\n 2589,\n 2591,\n 2607,\n ...]"
     },
     "execution_count": 14,
     "metadata": {},
     "output_type": "execute_result"
    }
   ],
   "source": [
    "ids = df_2017.studentId.unique().tolist()  # 获得去重后的ids\n",
    "ids"
   ],
   "metadata": {
    "collapsed": false
   }
  },
  {
   "cell_type": "code",
   "execution_count": 15,
   "outputs": [
    {
     "data": {
      "text/plain": "{'properties-of-geometric-figures': 0,\n 'sum-of-interior-angles-more-than-3-sides': 1,\n 'point-plotting': 2,\n 'transformations-rotations': 3,\n 'reading-graph': 4,\n 'area': 5,\n 'perimeter': 6,\n 'square-root': 7,\n 'isosceles-triangle': 8,\n 'application: isosceles triangle': 9,\n 'multiplying-decimals': 10,\n 'proportion': 11,\n 'pythagorean-theorem': 12,\n 'interpreting-linear-equations': 13,\n 'pattern-finding': 14,\n 'application: compare points': 15,\n 'application: multi-column subtraction': 16,\n 'application: simple multiplication': 17,\n 'application: compare expressions': 18,\n 'application: order of operations': 19,\n 'application: multi-column addition': 20,\n 'noskill': 21,\n 'application: read points': 22,\n 'application: find slope in graph': 23,\n 'p-patterns-relations-algebra': 24,\n 'percent-of': 25,\n 'venn-diagram': 26,\n 'equivalent-fractions-decimals-percents': 27,\n 'of-means-multiply': 28,\n 'fraction-multiplication': 29,\n 'supplementary-angles': 30,\n 'transversals': 31,\n 'triangle-inequality': 32,\n 'multiplication': 33,\n 'equation-solving': 34,\n 'discount': 35,\n 'sum-of-interior-angles-triangle': 36,\n 'inducing-functions': 37,\n 'subtraction': 38,\n 'addition': 39,\n 'division': 40,\n 'divide-decimals': 41,\n 'making-sense-of-expressions-and-equations': 42,\n 'ordering-numbers': 43,\n 'fraction-division': 44,\n 'evaluating-functions': 45,\n 'substitution': 46,\n 'algebraic-manipulation': 47,\n 'number-line': 48,\n 'exponents': 49,\n 'comparing-fractions': 50,\n 'scientific-notation': 51,\n 'order-of-operations': 52,\n 'reciprocal': 53,\n 'finding-percents': 54,\n 'subtracting-decimals': 55,\n 'integers': 56,\n 'n-number-sense-operations': 57,\n 'probability': 58,\n 'combinatorics': 59,\n 'symbolization-articulation': 60,\n 'mean': 61,\n 'meaning-of-pi': 62,\n 'interpreting-numberline': 63,\n 'graph-shape': 64,\n 'linear-area-volume-conversion': 65,\n 'inequality-solving': 66,\n 'fractions': 67,\n 'percents': 68,\n 'unit-conversion': 69,\n 'equation-concept': 70,\n 'rate': 71,\n 'median': 72,\n 'mode': 73,\n 'statistics': 74,\n 'circle-graph': 75,\n 'congruence': 76,\n 'least-common-multiple': 77,\n 'fraction-decimals-percents': 78,\n 'multiplying-positive-negative-numbers': 79,\n 'inequalities': 80,\n 'graph interpretation': 81,\n 'algebra symbolization': 82,\n 'surface-area-and-volume': 83,\n 'simple-calculation': 84,\n 'stem-and-leaf-plot': 85,\n 'prime-number': 86,\n 'rounding': 87,\n 'circumference': 88,\n 'reduce-fraction': 89,\n 'application: finding percentage of a number': 90,\n 'area-of-circle': 91,\n 'm-measurement': 92,\n 'rate-with-distance-and-time': 93,\n 'area-concept': 94,\n 'divisibility': 95,\n 'properties-of-solids': 96,\n 'adding-decimals': 97,\n 'measurement': 98,\n 'g-geometry': 99,\n 'similar-triangles': 100,\n 'slope': 101}"
     },
     "execution_count": 15,
     "metadata": {},
     "output_type": "execute_result"
    }
   ],
   "source": [
    "skill_map = {}  # 设置空字典\n",
    "for index, s in enumerate(df_2017.skill.unique().tolist()):  # 对 skill 去重 并进行带下标的遍历\n",
    "    skill_map[s] = index  # 将值和下标添加到字典\n",
    "skill_map  # 更新后的字典"
   ],
   "metadata": {
    "collapsed": false
   }
  },
  {
   "cell_type": "code",
   "execution_count": 16,
   "outputs": [],
   "source": [
    "for id in ids:  # 遍历所有id\n",
    "    id_count = str(df_2017.query(f'studentId=={id}').shape[0])  # 获得该id的个数\n",
    "    id_skill = df_2017.query(f'studentId=={id}').skill.map(skill_map).astype(\n",
    "        str).to_list()  # 通过当前id进行筛选,并通过刚才的字典做映射,转换为str,转换为列表\n",
    "    id_correct = df_2017.query(f'studentId=={id}').correct.astype(\n",
    "        str).to_list()  # 通过当前id进行筛选,转换为str,转换为列表\n",
    "    id_timeTaken = df_2017.query(f'studentId=={id}').timeTaken.astype(\n",
    "        int).astype(str).to_list()  # 通过当前id进行筛选,转换为整数,转换为str,转换为列表\n",
    "    id_attemptcount = df_2017.query(f'studentId=={id}').attemptCount.astype(int).astype(str).to_list()\n",
    "    id_hint = df_2017.query(f'studentId=={id}').hint.astype(int).astype(str).to_list()\n",
    "    id_hintcount = df_2017.query(f'studentId=={id}').hintTotal.astype(int).astype(str).to_list()\n",
    "    with open('features_2017_data.csv', 'a') as f:  # 新建 txt 文档\n",
    "        f.write(id_count+'\\n')  # 写入 学生做题的数量\n",
    "        f.write(','.join(id_skill)+'\\n')  # 写入 对应的映射数字\n",
    "        f.write(','.join(id_correct)+'\\n')  # 写入对错情况\n",
    "        f.write(','.join(id_timeTaken)+'\\n')  # 写入 持续时间\n",
    "\n",
    "        f.write(','.join(id_attemptcount)+'\\n')  # 写入 尝试次数\n",
    "        f.write(','.join(id_hint)+'\\n')  # 写入 提示选择\n",
    "        f.write(','.join(id_hintcount)+'\\n')  # 写入 提示次数"
   ],
   "metadata": {
    "collapsed": false
   }
  },
  {
   "cell_type": "code",
   "execution_count": 51,
   "outputs": [
    {
     "data": {
      "text/plain": "                                                       0\n0                                                   1018\n1      0,0,1,1,1,1,1,2,3,3,3,2,2,2,2,4,5,5,5,6,6,5,5,...\n2      0,1,0,0,1,0,1,0,0,1,1,0,1,0,1,1,0,0,1,1,1,0,1,...\n3      49,3,6,17,1,59,15,61,17,14,8,28,51,29,4,83,50,...\n4      1,1,1,2,1,2,3,1,1,3,1,1,2,1,2,1,1,1,2,1,1,1,1,...\n...                                                  ...\n11958  0,0,0,1,0,1,0,0,0,1,1,1,1,1,1,1,1,0,0,0,0,1,0,...\n11959  653,4,35,145,73,9,102,11,10,8,365,159,33,29,74...\n11960  1,2,3,4,1,2,1,2,3,4,1,1,1,1,1,1,1,1,2,3,4,5,1,...\n11961  0,1,1,0,1,0,0,0,0,0,0,0,0,0,0,0,0,0,0,1,0,0,0,...\n11962  2,2,2,2,1,1,0,0,0,0,0,0,0,0,0,0,0,1,1,1,1,1,0,...\n\n[11963 rows x 1 columns]",
      "text/html": "<div>\n<style scoped>\n    .dataframe tbody tr th:only-of-type {\n        vertical-align: middle;\n    }\n\n    .dataframe tbody tr th {\n        vertical-align: top;\n    }\n\n    .dataframe thead th {\n        text-align: right;\n    }\n</style>\n<table border=\"1\" class=\"dataframe\">\n  <thead>\n    <tr style=\"text-align: right;\">\n      <th></th>\n      <th>0</th>\n    </tr>\n  </thead>\n  <tbody>\n    <tr>\n      <th>0</th>\n      <td>1018</td>\n    </tr>\n    <tr>\n      <th>1</th>\n      <td>0,0,1,1,1,1,1,2,3,3,3,2,2,2,2,4,5,5,5,6,6,5,5,...</td>\n    </tr>\n    <tr>\n      <th>2</th>\n      <td>0,1,0,0,1,0,1,0,0,1,1,0,1,0,1,1,0,0,1,1,1,0,1,...</td>\n    </tr>\n    <tr>\n      <th>3</th>\n      <td>49,3,6,17,1,59,15,61,17,14,8,28,51,29,4,83,50,...</td>\n    </tr>\n    <tr>\n      <th>4</th>\n      <td>1,1,1,2,1,2,3,1,1,3,1,1,2,1,2,1,1,1,2,1,1,1,1,...</td>\n    </tr>\n    <tr>\n      <th>...</th>\n      <td>...</td>\n    </tr>\n    <tr>\n      <th>11958</th>\n      <td>0,0,0,1,0,1,0,0,0,1,1,1,1,1,1,1,1,0,0,0,0,1,0,...</td>\n    </tr>\n    <tr>\n      <th>11959</th>\n      <td>653,4,35,145,73,9,102,11,10,8,365,159,33,29,74...</td>\n    </tr>\n    <tr>\n      <th>11960</th>\n      <td>1,2,3,4,1,2,1,2,3,4,1,1,1,1,1,1,1,1,2,3,4,5,1,...</td>\n    </tr>\n    <tr>\n      <th>11961</th>\n      <td>0,1,1,0,1,0,0,0,0,0,0,0,0,0,0,0,0,0,0,1,0,0,0,...</td>\n    </tr>\n    <tr>\n      <th>11962</th>\n      <td>2,2,2,2,1,1,0,0,0,0,0,0,0,0,0,0,0,1,1,1,1,1,0,...</td>\n    </tr>\n  </tbody>\n</table>\n<p>11963 rows × 1 columns</p>\n</div>"
     },
     "execution_count": 51,
     "metadata": {},
     "output_type": "execute_result"
    }
   ],
   "source": [
    "path = 'features_2017_data.csv'\n",
    "df_2017_split = pd.read_table(path,header=None)\n",
    "df_2017_split"
   ],
   "metadata": {
    "collapsed": false
   }
  },
  {
   "cell_type": "code",
   "execution_count": 52,
   "outputs": [],
   "source": [
    "train = df_2017_split.iloc[0:5860,:]\n",
    "train.to_csv('assist_2017_train_time.csv',index=None,sep='|',quoting=csv.QUOTE_NONE,header=False)"
   ],
   "metadata": {
    "collapsed": false
   }
  },
  {
   "cell_type": "code",
   "execution_count": 53,
   "outputs": [],
   "source": [
    "test = df_2017_split.iloc[5860:,]\n",
    "test.to_csv('assist_2017_test_time.csv',index=None,sep='|',quoting=csv.QUOTE_NONE,header=False)"
   ],
   "metadata": {
    "collapsed": false
   }
  },
  {
   "cell_type": "code",
   "execution_count": null,
   "outputs": [],
   "source": [],
   "metadata": {
    "collapsed": false,
    "pycharm": {
     "is_executing": true
    }
   }
  },
  {
   "cell_type": "code",
   "execution_count": 58,
   "outputs": [
    {
     "ename": "ImportError",
     "evalue": "cannot import name 'QuantStub' from 'torch.ao.quantization' (/opt/anaconda3/lib/python3.9/site-packages/torch/ao/quantization/__init__.py)",
     "output_type": "error",
     "traceback": [
      "\u001B[0;31m---------------------------------------------------------------------------\u001B[0m",
      "\u001B[0;31mImportError\u001B[0m                               Traceback (most recent call last)",
      "\u001B[0;32m/var/folders/3w/8x00rrfn2973f28r3bz1j6gr0000gn/T/ipykernel_7155/3310105128.py\u001B[0m in \u001B[0;36m<cell line: 5>\u001B[0;34m()\u001B[0m\n\u001B[1;32m      3\u001B[0m \u001B[0;32mimport\u001B[0m \u001B[0mcollections\u001B[0m\u001B[0;34m\u001B[0m\u001B[0;34m\u001B[0m\u001B[0m\n\u001B[1;32m      4\u001B[0m \u001B[0;32mimport\u001B[0m \u001B[0mre\u001B[0m\u001B[0;34m\u001B[0m\u001B[0;34m\u001B[0m\u001B[0m\n\u001B[0;32m----> 5\u001B[0;31m \u001B[0;32mfrom\u001B[0m \u001B[0md2l\u001B[0m \u001B[0;32mimport\u001B[0m \u001B[0mtorch\u001B[0m \u001B[0;32mas\u001B[0m \u001B[0md2l\u001B[0m\u001B[0;34m\u001B[0m\u001B[0;34m\u001B[0m\u001B[0m\n\u001B[0m",
      "\u001B[0;32m/opt/anaconda3/lib/python3.9/site-packages/d2l/torch.py\u001B[0m in \u001B[0;36m<module>\u001B[0;34m\u001B[0m\n\u001B[1;32m      4\u001B[0m \u001B[0;32mimport\u001B[0m \u001B[0mnumpy\u001B[0m \u001B[0;32mas\u001B[0m \u001B[0mnp\u001B[0m\u001B[0;34m\u001B[0m\u001B[0;34m\u001B[0m\u001B[0m\n\u001B[1;32m      5\u001B[0m \u001B[0;32mimport\u001B[0m \u001B[0mtorch\u001B[0m\u001B[0;34m\u001B[0m\u001B[0;34m\u001B[0m\u001B[0m\n\u001B[0;32m----> 6\u001B[0;31m \u001B[0;32mimport\u001B[0m \u001B[0mtorchvision\u001B[0m\u001B[0;34m\u001B[0m\u001B[0;34m\u001B[0m\u001B[0m\n\u001B[0m\u001B[1;32m      7\u001B[0m \u001B[0;32mfrom\u001B[0m \u001B[0mPIL\u001B[0m \u001B[0;32mimport\u001B[0m \u001B[0mImage\u001B[0m\u001B[0;34m\u001B[0m\u001B[0;34m\u001B[0m\u001B[0m\n\u001B[1;32m      8\u001B[0m \u001B[0;32mfrom\u001B[0m \u001B[0mtorch\u001B[0m \u001B[0;32mimport\u001B[0m \u001B[0mnn\u001B[0m\u001B[0;34m\u001B[0m\u001B[0;34m\u001B[0m\u001B[0m\n",
      "\u001B[0;32m/opt/anaconda3/lib/python3.9/site-packages/torchvision/__init__.py\u001B[0m in \u001B[0;36m<module>\u001B[0;34m\u001B[0m\n\u001B[1;32m      3\u001B[0m \u001B[0;34m\u001B[0m\u001B[0m\n\u001B[1;32m      4\u001B[0m \u001B[0;32mimport\u001B[0m \u001B[0mtorch\u001B[0m\u001B[0;34m\u001B[0m\u001B[0;34m\u001B[0m\u001B[0m\n\u001B[0;32m----> 5\u001B[0;31m \u001B[0;32mfrom\u001B[0m \u001B[0mtorchvision\u001B[0m \u001B[0;32mimport\u001B[0m \u001B[0mdatasets\u001B[0m\u001B[0;34m,\u001B[0m \u001B[0mio\u001B[0m\u001B[0;34m,\u001B[0m \u001B[0mmodels\u001B[0m\u001B[0;34m,\u001B[0m \u001B[0mops\u001B[0m\u001B[0;34m,\u001B[0m \u001B[0mtransforms\u001B[0m\u001B[0;34m,\u001B[0m \u001B[0mutils\u001B[0m\u001B[0;34m\u001B[0m\u001B[0;34m\u001B[0m\u001B[0m\n\u001B[0m\u001B[1;32m      6\u001B[0m \u001B[0;34m\u001B[0m\u001B[0m\n\u001B[1;32m      7\u001B[0m \u001B[0;32mfrom\u001B[0m \u001B[0;34m.\u001B[0m\u001B[0mextension\u001B[0m \u001B[0;32mimport\u001B[0m \u001B[0m_HAS_OPS\u001B[0m\u001B[0;34m\u001B[0m\u001B[0;34m\u001B[0m\u001B[0m\n",
      "\u001B[0;32m/opt/anaconda3/lib/python3.9/site-packages/torchvision/models/__init__.py\u001B[0m in \u001B[0;36m<module>\u001B[0;34m\u001B[0m\n\u001B[1;32m     15\u001B[0m \u001B[0;32mfrom\u001B[0m \u001B[0;34m.\u001B[0m\u001B[0mswin_transformer\u001B[0m \u001B[0;32mimport\u001B[0m \u001B[0;34m*\u001B[0m\u001B[0;34m\u001B[0m\u001B[0;34m\u001B[0m\u001B[0m\n\u001B[1;32m     16\u001B[0m \u001B[0;32mfrom\u001B[0m \u001B[0;34m.\u001B[0m\u001B[0mmaxvit\u001B[0m \u001B[0;32mimport\u001B[0m \u001B[0;34m*\u001B[0m\u001B[0;34m\u001B[0m\u001B[0;34m\u001B[0m\u001B[0m\n\u001B[0;32m---> 17\u001B[0;31m \u001B[0;32mfrom\u001B[0m \u001B[0;34m.\u001B[0m \u001B[0;32mimport\u001B[0m \u001B[0mdetection\u001B[0m\u001B[0;34m,\u001B[0m \u001B[0moptical_flow\u001B[0m\u001B[0;34m,\u001B[0m \u001B[0mquantization\u001B[0m\u001B[0;34m,\u001B[0m \u001B[0msegmentation\u001B[0m\u001B[0;34m,\u001B[0m \u001B[0mvideo\u001B[0m\u001B[0;34m\u001B[0m\u001B[0;34m\u001B[0m\u001B[0m\n\u001B[0m\u001B[1;32m     18\u001B[0m \u001B[0;32mfrom\u001B[0m \u001B[0;34m.\u001B[0m\u001B[0m_api\u001B[0m \u001B[0;32mimport\u001B[0m \u001B[0mget_model\u001B[0m\u001B[0;34m,\u001B[0m \u001B[0mget_model_builder\u001B[0m\u001B[0;34m,\u001B[0m \u001B[0mget_model_weights\u001B[0m\u001B[0;34m,\u001B[0m \u001B[0mget_weight\u001B[0m\u001B[0;34m,\u001B[0m \u001B[0mlist_models\u001B[0m\u001B[0;34m\u001B[0m\u001B[0;34m\u001B[0m\u001B[0m\n",
      "\u001B[0;32m/opt/anaconda3/lib/python3.9/site-packages/torchvision/models/quantization/__init__.py\u001B[0m in \u001B[0;36m<module>\u001B[0;34m\u001B[0m\n\u001B[1;32m      1\u001B[0m \u001B[0;32mfrom\u001B[0m \u001B[0;34m.\u001B[0m\u001B[0mgooglenet\u001B[0m \u001B[0;32mimport\u001B[0m \u001B[0;34m*\u001B[0m\u001B[0;34m\u001B[0m\u001B[0;34m\u001B[0m\u001B[0m\n\u001B[1;32m      2\u001B[0m \u001B[0;32mfrom\u001B[0m \u001B[0;34m.\u001B[0m\u001B[0minception\u001B[0m \u001B[0;32mimport\u001B[0m \u001B[0;34m*\u001B[0m\u001B[0;34m\u001B[0m\u001B[0;34m\u001B[0m\u001B[0m\n\u001B[0;32m----> 3\u001B[0;31m \u001B[0;32mfrom\u001B[0m \u001B[0;34m.\u001B[0m\u001B[0mmobilenet\u001B[0m \u001B[0;32mimport\u001B[0m \u001B[0;34m*\u001B[0m\u001B[0;34m\u001B[0m\u001B[0;34m\u001B[0m\u001B[0m\n\u001B[0m\u001B[1;32m      4\u001B[0m \u001B[0;32mfrom\u001B[0m \u001B[0;34m.\u001B[0m\u001B[0mresnet\u001B[0m \u001B[0;32mimport\u001B[0m \u001B[0;34m*\u001B[0m\u001B[0;34m\u001B[0m\u001B[0;34m\u001B[0m\u001B[0m\n\u001B[1;32m      5\u001B[0m \u001B[0;32mfrom\u001B[0m \u001B[0;34m.\u001B[0m\u001B[0mshufflenetv2\u001B[0m \u001B[0;32mimport\u001B[0m \u001B[0;34m*\u001B[0m\u001B[0;34m\u001B[0m\u001B[0;34m\u001B[0m\u001B[0m\n",
      "\u001B[0;32m/opt/anaconda3/lib/python3.9/site-packages/torchvision/models/quantization/mobilenet.py\u001B[0m in \u001B[0;36m<module>\u001B[0;34m\u001B[0m\n\u001B[0;32m----> 1\u001B[0;31m \u001B[0;32mfrom\u001B[0m \u001B[0;34m.\u001B[0m\u001B[0mmobilenetv2\u001B[0m \u001B[0;32mimport\u001B[0m \u001B[0;34m*\u001B[0m  \u001B[0;31m# noqa: F401, F403\u001B[0m\u001B[0;34m\u001B[0m\u001B[0;34m\u001B[0m\u001B[0m\n\u001B[0m\u001B[1;32m      2\u001B[0m \u001B[0;32mfrom\u001B[0m \u001B[0;34m.\u001B[0m\u001B[0mmobilenetv3\u001B[0m \u001B[0;32mimport\u001B[0m \u001B[0;34m*\u001B[0m  \u001B[0;31m# noqa: F401, F403\u001B[0m\u001B[0;34m\u001B[0m\u001B[0;34m\u001B[0m\u001B[0m\n\u001B[1;32m      3\u001B[0m \u001B[0;32mfrom\u001B[0m \u001B[0;34m.\u001B[0m\u001B[0mmobilenetv2\u001B[0m \u001B[0;32mimport\u001B[0m \u001B[0m__all__\u001B[0m \u001B[0;32mas\u001B[0m \u001B[0mmv2_all\u001B[0m\u001B[0;34m\u001B[0m\u001B[0;34m\u001B[0m\u001B[0m\n\u001B[1;32m      4\u001B[0m \u001B[0;32mfrom\u001B[0m \u001B[0;34m.\u001B[0m\u001B[0mmobilenetv3\u001B[0m \u001B[0;32mimport\u001B[0m \u001B[0m__all__\u001B[0m \u001B[0;32mas\u001B[0m \u001B[0mmv3_all\u001B[0m\u001B[0;34m\u001B[0m\u001B[0;34m\u001B[0m\u001B[0m\n\u001B[1;32m      5\u001B[0m \u001B[0;34m\u001B[0m\u001B[0m\n",
      "\u001B[0;32m/opt/anaconda3/lib/python3.9/site-packages/torchvision/models/quantization/mobilenetv2.py\u001B[0m in \u001B[0;36m<module>\u001B[0;34m\u001B[0m\n\u001B[1;32m      3\u001B[0m \u001B[0;34m\u001B[0m\u001B[0m\n\u001B[1;32m      4\u001B[0m \u001B[0;32mfrom\u001B[0m \u001B[0mtorch\u001B[0m \u001B[0;32mimport\u001B[0m \u001B[0mnn\u001B[0m\u001B[0;34m,\u001B[0m \u001B[0mTensor\u001B[0m\u001B[0;34m\u001B[0m\u001B[0;34m\u001B[0m\u001B[0m\n\u001B[0;32m----> 5\u001B[0;31m \u001B[0;32mfrom\u001B[0m \u001B[0mtorch\u001B[0m\u001B[0;34m.\u001B[0m\u001B[0mao\u001B[0m\u001B[0;34m.\u001B[0m\u001B[0mquantization\u001B[0m \u001B[0;32mimport\u001B[0m \u001B[0mDeQuantStub\u001B[0m\u001B[0;34m,\u001B[0m \u001B[0mQuantStub\u001B[0m\u001B[0;34m\u001B[0m\u001B[0;34m\u001B[0m\u001B[0m\n\u001B[0m\u001B[1;32m      6\u001B[0m \u001B[0;32mfrom\u001B[0m \u001B[0mtorchvision\u001B[0m\u001B[0;34m.\u001B[0m\u001B[0mmodels\u001B[0m\u001B[0;34m.\u001B[0m\u001B[0mmobilenetv2\u001B[0m \u001B[0;32mimport\u001B[0m \u001B[0mInvertedResidual\u001B[0m\u001B[0;34m,\u001B[0m \u001B[0mMobileNet_V2_Weights\u001B[0m\u001B[0;34m,\u001B[0m \u001B[0mMobileNetV2\u001B[0m\u001B[0;34m\u001B[0m\u001B[0;34m\u001B[0m\u001B[0m\n\u001B[1;32m      7\u001B[0m \u001B[0;34m\u001B[0m\u001B[0m\n",
      "\u001B[0;31mImportError\u001B[0m: cannot import name 'QuantStub' from 'torch.ao.quantization' (/opt/anaconda3/lib/python3.9/site-packages/torch/ao/quantization/__init__.py)"
     ]
    }
   ],
   "source": [],
   "metadata": {
    "collapsed": false
   }
  },
  {
   "cell_type": "code",
   "execution_count": null,
   "outputs": [],
   "source": [],
   "metadata": {
    "collapsed": false
   }
  }
 ],
 "metadata": {
  "kernelspec": {
   "display_name": "Python 3",
   "language": "python",
   "name": "python3"
  },
  "language_info": {
   "codemirror_mode": {
    "name": "ipython",
    "version": 2
   },
   "file_extension": ".py",
   "mimetype": "text/x-python",
   "name": "python",
   "nbconvert_exporter": "python",
   "pygments_lexer": "ipython2",
   "version": "2.7.6"
  }
 },
 "nbformat": 4,
 "nbformat_minor": 0
}
